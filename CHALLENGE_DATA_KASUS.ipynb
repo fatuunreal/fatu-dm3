{
  "cells": [
    {
      "cell_type": "markdown",
      "metadata": {
        "id": "view-in-github",
        "colab_type": "text"
      },
      "source": [
        "<a href=\"https://colab.research.google.com/github/fatuunreal/fatu-dm3/blob/main/CHALLENGE_DATA_KASUS.ipynb\" target=\"_parent\"><img src=\"https://colab.research.google.com/assets/colab-badge.svg\" alt=\"Open In Colab\"/></a>"
      ]
    },
    {
      "cell_type": "markdown",
      "id": "87a6da4b",
      "metadata": {
        "id": "87a6da4b"
      },
      "source": [
        "### Pra Pemrosesan Data"
      ]
    },
    {
      "cell_type": "code",
      "execution_count": null,
      "id": "8f851774",
      "metadata": {
        "tags": [],
        "id": "8f851774"
      },
      "outputs": [],
      "source": [
        "import numpy as np\n",
        "import matplotlib.pyplot as plt\n",
        "import pandas as pd\n",
        "import seaborn as sns\n",
        "from sklearn.impute import SimpleImputer"
      ]
    },
    {
      "cell_type": "code",
      "execution_count": null,
      "id": "eb0ed183-a3a6-4173-b60a-cc6732551471",
      "metadata": {
        "colab": {
          "base_uri": "https://localhost:8080/",
          "height": 669
        },
        "id": "eb0ed183-a3a6-4173-b60a-cc6732551471",
        "outputId": "7c2162bf-8fc5-47d4-9086-ee7e747aae94"
      },
      "outputs": [
        {
          "output_type": "execute_result",
          "data": {
            "text/plain": [
              "      NO      NAMA   USIA  PARITAS JARAK KELAHIRAN RIW HIPERTENSI RIW PE  \\\n",
              "0      1    NAMA 1  23 TH        3       < 2 tahun          Tidak  Tidak   \n",
              "1      2    NAMA 2  29 TH        2       < 2 tahun          Tidak    PEB   \n",
              "2      3    NAMA 3  20 TH        1    anak pertama          Tidak  Tidak   \n",
              "3      4    NAMA 4  18 TH        1    anak pertama          Tidak  Tidak   \n",
              "4      5    NAMA 5  34 TH        3      > 2 tahun           Tidak  Tidak   \n",
              "..   ...       ...    ...      ...             ...            ...    ...   \n",
              "556  558  NAMA 557  40 TH        3      > 2 tahun           Tidak  Tidak   \n",
              "557  559  NAMA 558  28 TH        3       < 2 tahun          Tidak  Tidak   \n",
              "558  560  NAMA 559  41 TH        3      > 2 tahun           Tidak  Tidak   \n",
              "559  561  NAMA 560  32 TH        2      > 2 tahun           Tidak  Tidak   \n",
              "560  562  NAMA 561  30 TH        2      > 2 tahun           Tidak  Tidak   \n",
              "\n",
              "    OBESITAS RIW DM RIW HIPERTENSI/PE DALAM KELUARGA SOSEK RENDAH PE/Non PE  \\\n",
              "0      Tidak     Ya                            Tidak         >UMR    Non PE   \n",
              "1      Tidak  Tidak                              Ada         >UMR        PE   \n",
              "2      Tidak  Tidak                            Tidak         >UMR    Non PE   \n",
              "3      Tidak  Tidak                            Tidak         >UMR    Non PE   \n",
              "4      Tidak  Tidak                            Tidak         >UMR    Non PE   \n",
              "..       ...    ...                              ...          ...       ...   \n",
              "556    Tidak  Tidak                            Tidak         >UMR    Non PE   \n",
              "557    Tidak  Tidak                            Tidak         >UMR    Non PE   \n",
              "558    Tidak  Tidak                            Tidak         >UMR    Non PE   \n",
              "559    Tidak  Tidak                            Tidak         >UMR    Non PE   \n",
              "560    Tidak  Tidak                            Tidak         >UMR    Non PE   \n",
              "\n",
              "    Unnamed: 12  \n",
              "0           NaN  \n",
              "1           NaN  \n",
              "2           NaN  \n",
              "3           NaN  \n",
              "4           NaN  \n",
              "..          ...  \n",
              "556         NaN  \n",
              "557         NaN  \n",
              "558         NaN  \n",
              "559         NaN  \n",
              "560         NaN  \n",
              "\n",
              "[561 rows x 13 columns]"
            ],
            "text/html": [
              "\n",
              "  <div id=\"df-8a904543-81b3-4663-873c-6ccf5cedc0aa\" class=\"colab-df-container\">\n",
              "    <div>\n",
              "<style scoped>\n",
              "    .dataframe tbody tr th:only-of-type {\n",
              "        vertical-align: middle;\n",
              "    }\n",
              "\n",
              "    .dataframe tbody tr th {\n",
              "        vertical-align: top;\n",
              "    }\n",
              "\n",
              "    .dataframe thead th {\n",
              "        text-align: right;\n",
              "    }\n",
              "</style>\n",
              "<table border=\"1\" class=\"dataframe\">\n",
              "  <thead>\n",
              "    <tr style=\"text-align: right;\">\n",
              "      <th></th>\n",
              "      <th>NO</th>\n",
              "      <th>NAMA</th>\n",
              "      <th>USIA</th>\n",
              "      <th>PARITAS</th>\n",
              "      <th>JARAK KELAHIRAN</th>\n",
              "      <th>RIW HIPERTENSI</th>\n",
              "      <th>RIW PE</th>\n",
              "      <th>OBESITAS</th>\n",
              "      <th>RIW DM</th>\n",
              "      <th>RIW HIPERTENSI/PE DALAM KELUARGA</th>\n",
              "      <th>SOSEK RENDAH</th>\n",
              "      <th>PE/Non PE</th>\n",
              "      <th>Unnamed: 12</th>\n",
              "    </tr>\n",
              "  </thead>\n",
              "  <tbody>\n",
              "    <tr>\n",
              "      <th>0</th>\n",
              "      <td>1</td>\n",
              "      <td>NAMA 1</td>\n",
              "      <td>23 TH</td>\n",
              "      <td>3</td>\n",
              "      <td>&lt; 2 tahun</td>\n",
              "      <td>Tidak</td>\n",
              "      <td>Tidak</td>\n",
              "      <td>Tidak</td>\n",
              "      <td>Ya</td>\n",
              "      <td>Tidak</td>\n",
              "      <td>&gt;UMR</td>\n",
              "      <td>Non PE</td>\n",
              "      <td>NaN</td>\n",
              "    </tr>\n",
              "    <tr>\n",
              "      <th>1</th>\n",
              "      <td>2</td>\n",
              "      <td>NAMA 2</td>\n",
              "      <td>29 TH</td>\n",
              "      <td>2</td>\n",
              "      <td>&lt; 2 tahun</td>\n",
              "      <td>Tidak</td>\n",
              "      <td>PEB</td>\n",
              "      <td>Tidak</td>\n",
              "      <td>Tidak</td>\n",
              "      <td>Ada</td>\n",
              "      <td>&gt;UMR</td>\n",
              "      <td>PE</td>\n",
              "      <td>NaN</td>\n",
              "    </tr>\n",
              "    <tr>\n",
              "      <th>2</th>\n",
              "      <td>3</td>\n",
              "      <td>NAMA 3</td>\n",
              "      <td>20 TH</td>\n",
              "      <td>1</td>\n",
              "      <td>anak pertama</td>\n",
              "      <td>Tidak</td>\n",
              "      <td>Tidak</td>\n",
              "      <td>Tidak</td>\n",
              "      <td>Tidak</td>\n",
              "      <td>Tidak</td>\n",
              "      <td>&gt;UMR</td>\n",
              "      <td>Non PE</td>\n",
              "      <td>NaN</td>\n",
              "    </tr>\n",
              "    <tr>\n",
              "      <th>3</th>\n",
              "      <td>4</td>\n",
              "      <td>NAMA 4</td>\n",
              "      <td>18 TH</td>\n",
              "      <td>1</td>\n",
              "      <td>anak pertama</td>\n",
              "      <td>Tidak</td>\n",
              "      <td>Tidak</td>\n",
              "      <td>Tidak</td>\n",
              "      <td>Tidak</td>\n",
              "      <td>Tidak</td>\n",
              "      <td>&gt;UMR</td>\n",
              "      <td>Non PE</td>\n",
              "      <td>NaN</td>\n",
              "    </tr>\n",
              "    <tr>\n",
              "      <th>4</th>\n",
              "      <td>5</td>\n",
              "      <td>NAMA 5</td>\n",
              "      <td>34 TH</td>\n",
              "      <td>3</td>\n",
              "      <td>&gt; 2 tahun</td>\n",
              "      <td>Tidak</td>\n",
              "      <td>Tidak</td>\n",
              "      <td>Tidak</td>\n",
              "      <td>Tidak</td>\n",
              "      <td>Tidak</td>\n",
              "      <td>&gt;UMR</td>\n",
              "      <td>Non PE</td>\n",
              "      <td>NaN</td>\n",
              "    </tr>\n",
              "    <tr>\n",
              "      <th>...</th>\n",
              "      <td>...</td>\n",
              "      <td>...</td>\n",
              "      <td>...</td>\n",
              "      <td>...</td>\n",
              "      <td>...</td>\n",
              "      <td>...</td>\n",
              "      <td>...</td>\n",
              "      <td>...</td>\n",
              "      <td>...</td>\n",
              "      <td>...</td>\n",
              "      <td>...</td>\n",
              "      <td>...</td>\n",
              "      <td>...</td>\n",
              "    </tr>\n",
              "    <tr>\n",
              "      <th>556</th>\n",
              "      <td>558</td>\n",
              "      <td>NAMA 557</td>\n",
              "      <td>40 TH</td>\n",
              "      <td>3</td>\n",
              "      <td>&gt; 2 tahun</td>\n",
              "      <td>Tidak</td>\n",
              "      <td>Tidak</td>\n",
              "      <td>Tidak</td>\n",
              "      <td>Tidak</td>\n",
              "      <td>Tidak</td>\n",
              "      <td>&gt;UMR</td>\n",
              "      <td>Non PE</td>\n",
              "      <td>NaN</td>\n",
              "    </tr>\n",
              "    <tr>\n",
              "      <th>557</th>\n",
              "      <td>559</td>\n",
              "      <td>NAMA 558</td>\n",
              "      <td>28 TH</td>\n",
              "      <td>3</td>\n",
              "      <td>&lt; 2 tahun</td>\n",
              "      <td>Tidak</td>\n",
              "      <td>Tidak</td>\n",
              "      <td>Tidak</td>\n",
              "      <td>Tidak</td>\n",
              "      <td>Tidak</td>\n",
              "      <td>&gt;UMR</td>\n",
              "      <td>Non PE</td>\n",
              "      <td>NaN</td>\n",
              "    </tr>\n",
              "    <tr>\n",
              "      <th>558</th>\n",
              "      <td>560</td>\n",
              "      <td>NAMA 559</td>\n",
              "      <td>41 TH</td>\n",
              "      <td>3</td>\n",
              "      <td>&gt; 2 tahun</td>\n",
              "      <td>Tidak</td>\n",
              "      <td>Tidak</td>\n",
              "      <td>Tidak</td>\n",
              "      <td>Tidak</td>\n",
              "      <td>Tidak</td>\n",
              "      <td>&gt;UMR</td>\n",
              "      <td>Non PE</td>\n",
              "      <td>NaN</td>\n",
              "    </tr>\n",
              "    <tr>\n",
              "      <th>559</th>\n",
              "      <td>561</td>\n",
              "      <td>NAMA 560</td>\n",
              "      <td>32 TH</td>\n",
              "      <td>2</td>\n",
              "      <td>&gt; 2 tahun</td>\n",
              "      <td>Tidak</td>\n",
              "      <td>Tidak</td>\n",
              "      <td>Tidak</td>\n",
              "      <td>Tidak</td>\n",
              "      <td>Tidak</td>\n",
              "      <td>&gt;UMR</td>\n",
              "      <td>Non PE</td>\n",
              "      <td>NaN</td>\n",
              "    </tr>\n",
              "    <tr>\n",
              "      <th>560</th>\n",
              "      <td>562</td>\n",
              "      <td>NAMA 561</td>\n",
              "      <td>30 TH</td>\n",
              "      <td>2</td>\n",
              "      <td>&gt; 2 tahun</td>\n",
              "      <td>Tidak</td>\n",
              "      <td>Tidak</td>\n",
              "      <td>Tidak</td>\n",
              "      <td>Tidak</td>\n",
              "      <td>Tidak</td>\n",
              "      <td>&gt;UMR</td>\n",
              "      <td>Non PE</td>\n",
              "      <td>NaN</td>\n",
              "    </tr>\n",
              "  </tbody>\n",
              "</table>\n",
              "<p>561 rows × 13 columns</p>\n",
              "</div>\n",
              "    <div class=\"colab-df-buttons\">\n",
              "\n",
              "  <div class=\"colab-df-container\">\n",
              "    <button class=\"colab-df-convert\" onclick=\"convertToInteractive('df-8a904543-81b3-4663-873c-6ccf5cedc0aa')\"\n",
              "            title=\"Convert this dataframe to an interactive table.\"\n",
              "            style=\"display:none;\">\n",
              "\n",
              "  <svg xmlns=\"http://www.w3.org/2000/svg\" height=\"24px\" viewBox=\"0 -960 960 960\">\n",
              "    <path d=\"M120-120v-720h720v720H120Zm60-500h600v-160H180v160Zm220 220h160v-160H400v160Zm0 220h160v-160H400v160ZM180-400h160v-160H180v160Zm440 0h160v-160H620v160ZM180-180h160v-160H180v160Zm440 0h160v-160H620v160Z\"/>\n",
              "  </svg>\n",
              "    </button>\n",
              "\n",
              "  <style>\n",
              "    .colab-df-container {\n",
              "      display:flex;\n",
              "      gap: 12px;\n",
              "    }\n",
              "\n",
              "    .colab-df-convert {\n",
              "      background-color: #E8F0FE;\n",
              "      border: none;\n",
              "      border-radius: 50%;\n",
              "      cursor: pointer;\n",
              "      display: none;\n",
              "      fill: #1967D2;\n",
              "      height: 32px;\n",
              "      padding: 0 0 0 0;\n",
              "      width: 32px;\n",
              "    }\n",
              "\n",
              "    .colab-df-convert:hover {\n",
              "      background-color: #E2EBFA;\n",
              "      box-shadow: 0px 1px 2px rgba(60, 64, 67, 0.3), 0px 1px 3px 1px rgba(60, 64, 67, 0.15);\n",
              "      fill: #174EA6;\n",
              "    }\n",
              "\n",
              "    .colab-df-buttons div {\n",
              "      margin-bottom: 4px;\n",
              "    }\n",
              "\n",
              "    [theme=dark] .colab-df-convert {\n",
              "      background-color: #3B4455;\n",
              "      fill: #D2E3FC;\n",
              "    }\n",
              "\n",
              "    [theme=dark] .colab-df-convert:hover {\n",
              "      background-color: #434B5C;\n",
              "      box-shadow: 0px 1px 3px 1px rgba(0, 0, 0, 0.15);\n",
              "      filter: drop-shadow(0px 1px 2px rgba(0, 0, 0, 0.3));\n",
              "      fill: #FFFFFF;\n",
              "    }\n",
              "  </style>\n",
              "\n",
              "    <script>\n",
              "      const buttonEl =\n",
              "        document.querySelector('#df-8a904543-81b3-4663-873c-6ccf5cedc0aa button.colab-df-convert');\n",
              "      buttonEl.style.display =\n",
              "        google.colab.kernel.accessAllowed ? 'block' : 'none';\n",
              "\n",
              "      async function convertToInteractive(key) {\n",
              "        const element = document.querySelector('#df-8a904543-81b3-4663-873c-6ccf5cedc0aa');\n",
              "        const dataTable =\n",
              "          await google.colab.kernel.invokeFunction('convertToInteractive',\n",
              "                                                    [key], {});\n",
              "        if (!dataTable) return;\n",
              "\n",
              "        const docLinkHtml = 'Like what you see? Visit the ' +\n",
              "          '<a target=\"_blank\" href=https://colab.research.google.com/notebooks/data_table.ipynb>data table notebook</a>'\n",
              "          + ' to learn more about interactive tables.';\n",
              "        element.innerHTML = '';\n",
              "        dataTable['output_type'] = 'display_data';\n",
              "        await google.colab.output.renderOutput(dataTable, element);\n",
              "        const docLink = document.createElement('div');\n",
              "        docLink.innerHTML = docLinkHtml;\n",
              "        element.appendChild(docLink);\n",
              "      }\n",
              "    </script>\n",
              "  </div>\n",
              "\n",
              "\n",
              "<div id=\"df-d55a0d00-3278-492d-8e5e-e35c4a8e5c72\">\n",
              "  <button class=\"colab-df-quickchart\" onclick=\"quickchart('df-d55a0d00-3278-492d-8e5e-e35c4a8e5c72')\"\n",
              "            title=\"Suggest charts\"\n",
              "            style=\"display:none;\">\n",
              "\n",
              "<svg xmlns=\"http://www.w3.org/2000/svg\" height=\"24px\"viewBox=\"0 0 24 24\"\n",
              "     width=\"24px\">\n",
              "    <g>\n",
              "        <path d=\"M19 3H5c-1.1 0-2 .9-2 2v14c0 1.1.9 2 2 2h14c1.1 0 2-.9 2-2V5c0-1.1-.9-2-2-2zM9 17H7v-7h2v7zm4 0h-2V7h2v10zm4 0h-2v-4h2v4z\"/>\n",
              "    </g>\n",
              "</svg>\n",
              "  </button>\n",
              "\n",
              "<style>\n",
              "  .colab-df-quickchart {\n",
              "      --bg-color: #E8F0FE;\n",
              "      --fill-color: #1967D2;\n",
              "      --hover-bg-color: #E2EBFA;\n",
              "      --hover-fill-color: #174EA6;\n",
              "      --disabled-fill-color: #AAA;\n",
              "      --disabled-bg-color: #DDD;\n",
              "  }\n",
              "\n",
              "  [theme=dark] .colab-df-quickchart {\n",
              "      --bg-color: #3B4455;\n",
              "      --fill-color: #D2E3FC;\n",
              "      --hover-bg-color: #434B5C;\n",
              "      --hover-fill-color: #FFFFFF;\n",
              "      --disabled-bg-color: #3B4455;\n",
              "      --disabled-fill-color: #666;\n",
              "  }\n",
              "\n",
              "  .colab-df-quickchart {\n",
              "    background-color: var(--bg-color);\n",
              "    border: none;\n",
              "    border-radius: 50%;\n",
              "    cursor: pointer;\n",
              "    display: none;\n",
              "    fill: var(--fill-color);\n",
              "    height: 32px;\n",
              "    padding: 0;\n",
              "    width: 32px;\n",
              "  }\n",
              "\n",
              "  .colab-df-quickchart:hover {\n",
              "    background-color: var(--hover-bg-color);\n",
              "    box-shadow: 0 1px 2px rgba(60, 64, 67, 0.3), 0 1px 3px 1px rgba(60, 64, 67, 0.15);\n",
              "    fill: var(--button-hover-fill-color);\n",
              "  }\n",
              "\n",
              "  .colab-df-quickchart-complete:disabled,\n",
              "  .colab-df-quickchart-complete:disabled:hover {\n",
              "    background-color: var(--disabled-bg-color);\n",
              "    fill: var(--disabled-fill-color);\n",
              "    box-shadow: none;\n",
              "  }\n",
              "\n",
              "  .colab-df-spinner {\n",
              "    border: 2px solid var(--fill-color);\n",
              "    border-color: transparent;\n",
              "    border-bottom-color: var(--fill-color);\n",
              "    animation:\n",
              "      spin 1s steps(1) infinite;\n",
              "  }\n",
              "\n",
              "  @keyframes spin {\n",
              "    0% {\n",
              "      border-color: transparent;\n",
              "      border-bottom-color: var(--fill-color);\n",
              "      border-left-color: var(--fill-color);\n",
              "    }\n",
              "    20% {\n",
              "      border-color: transparent;\n",
              "      border-left-color: var(--fill-color);\n",
              "      border-top-color: var(--fill-color);\n",
              "    }\n",
              "    30% {\n",
              "      border-color: transparent;\n",
              "      border-left-color: var(--fill-color);\n",
              "      border-top-color: var(--fill-color);\n",
              "      border-right-color: var(--fill-color);\n",
              "    }\n",
              "    40% {\n",
              "      border-color: transparent;\n",
              "      border-right-color: var(--fill-color);\n",
              "      border-top-color: var(--fill-color);\n",
              "    }\n",
              "    60% {\n",
              "      border-color: transparent;\n",
              "      border-right-color: var(--fill-color);\n",
              "    }\n",
              "    80% {\n",
              "      border-color: transparent;\n",
              "      border-right-color: var(--fill-color);\n",
              "      border-bottom-color: var(--fill-color);\n",
              "    }\n",
              "    90% {\n",
              "      border-color: transparent;\n",
              "      border-bottom-color: var(--fill-color);\n",
              "    }\n",
              "  }\n",
              "</style>\n",
              "\n",
              "  <script>\n",
              "    async function quickchart(key) {\n",
              "      const quickchartButtonEl =\n",
              "        document.querySelector('#' + key + ' button');\n",
              "      quickchartButtonEl.disabled = true;  // To prevent multiple clicks.\n",
              "      quickchartButtonEl.classList.add('colab-df-spinner');\n",
              "      try {\n",
              "        const charts = await google.colab.kernel.invokeFunction(\n",
              "            'suggestCharts', [key], {});\n",
              "      } catch (error) {\n",
              "        console.error('Error during call to suggestCharts:', error);\n",
              "      }\n",
              "      quickchartButtonEl.classList.remove('colab-df-spinner');\n",
              "      quickchartButtonEl.classList.add('colab-df-quickchart-complete');\n",
              "    }\n",
              "    (() => {\n",
              "      let quickchartButtonEl =\n",
              "        document.querySelector('#df-d55a0d00-3278-492d-8e5e-e35c4a8e5c72 button');\n",
              "      quickchartButtonEl.style.display =\n",
              "        google.colab.kernel.accessAllowed ? 'block' : 'none';\n",
              "    })();\n",
              "  </script>\n",
              "</div>\n",
              "\n",
              "  <div id=\"id_8485849d-cb26-4d3e-95aa-e6989794fe43\">\n",
              "    <style>\n",
              "      .colab-df-generate {\n",
              "        background-color: #E8F0FE;\n",
              "        border: none;\n",
              "        border-radius: 50%;\n",
              "        cursor: pointer;\n",
              "        display: none;\n",
              "        fill: #1967D2;\n",
              "        height: 32px;\n",
              "        padding: 0 0 0 0;\n",
              "        width: 32px;\n",
              "      }\n",
              "\n",
              "      .colab-df-generate:hover {\n",
              "        background-color: #E2EBFA;\n",
              "        box-shadow: 0px 1px 2px rgba(60, 64, 67, 0.3), 0px 1px 3px 1px rgba(60, 64, 67, 0.15);\n",
              "        fill: #174EA6;\n",
              "      }\n",
              "\n",
              "      [theme=dark] .colab-df-generate {\n",
              "        background-color: #3B4455;\n",
              "        fill: #D2E3FC;\n",
              "      }\n",
              "\n",
              "      [theme=dark] .colab-df-generate:hover {\n",
              "        background-color: #434B5C;\n",
              "        box-shadow: 0px 1px 3px 1px rgba(0, 0, 0, 0.15);\n",
              "        filter: drop-shadow(0px 1px 2px rgba(0, 0, 0, 0.3));\n",
              "        fill: #FFFFFF;\n",
              "      }\n",
              "    </style>\n",
              "    <button class=\"colab-df-generate\" onclick=\"generateWithVariable('datasets')\"\n",
              "            title=\"Generate code using this dataframe.\"\n",
              "            style=\"display:none;\">\n",
              "\n",
              "  <svg xmlns=\"http://www.w3.org/2000/svg\" height=\"24px\"viewBox=\"0 0 24 24\"\n",
              "       width=\"24px\">\n",
              "    <path d=\"M7,19H8.4L18.45,9,17,7.55,7,17.6ZM5,21V16.75L18.45,3.32a2,2,0,0,1,2.83,0l1.4,1.43a1.91,1.91,0,0,1,.58,1.4,1.91,1.91,0,0,1-.58,1.4L9.25,21ZM18.45,9,17,7.55Zm-12,3A5.31,5.31,0,0,0,4.9,8.1,5.31,5.31,0,0,0,1,6.5,5.31,5.31,0,0,0,4.9,4.9,5.31,5.31,0,0,0,6.5,1,5.31,5.31,0,0,0,8.1,4.9,5.31,5.31,0,0,0,12,6.5,5.46,5.46,0,0,0,6.5,12Z\"/>\n",
              "  </svg>\n",
              "    </button>\n",
              "    <script>\n",
              "      (() => {\n",
              "      const buttonEl =\n",
              "        document.querySelector('#id_8485849d-cb26-4d3e-95aa-e6989794fe43 button.colab-df-generate');\n",
              "      buttonEl.style.display =\n",
              "        google.colab.kernel.accessAllowed ? 'block' : 'none';\n",
              "\n",
              "      buttonEl.onclick = () => {\n",
              "        google.colab.notebook.generateWithVariable('datasets');\n",
              "      }\n",
              "      })();\n",
              "    </script>\n",
              "  </div>\n",
              "\n",
              "    </div>\n",
              "  </div>\n"
            ],
            "application/vnd.google.colaboratory.intrinsic+json": {
              "type": "dataframe",
              "variable_name": "datasets",
              "summary": "{\n  \"name\": \"datasets\",\n  \"rows\": 561,\n  \"fields\": [\n    {\n      \"column\": \"NO\",\n      \"properties\": {\n        \"dtype\": \"number\",\n        \"std\": 162,\n        \"min\": 1,\n        \"max\": 562,\n        \"num_unique_values\": 561,\n        \"samples\": [\n          515,\n          344,\n          179\n        ],\n        \"semantic_type\": \"\",\n        \"description\": \"\"\n      }\n    },\n    {\n      \"column\": \"NAMA\",\n      \"properties\": {\n        \"dtype\": \"string\",\n        \"num_unique_values\": 561,\n        \"samples\": [\n          \"NAMA 514\",\n          \"NAMA 343\",\n          \"NAMA 178\"\n        ],\n        \"semantic_type\": \"\",\n        \"description\": \"\"\n      }\n    },\n    {\n      \"column\": \"USIA\",\n      \"properties\": {\n        \"dtype\": \"category\",\n        \"num_unique_values\": 72,\n        \"samples\": [\n          \"34 TH\",\n          \"19 th \",\n          \"27 TH\"\n        ],\n        \"semantic_type\": \"\",\n        \"description\": \"\"\n      }\n    },\n    {\n      \"column\": \"PARITAS\",\n      \"properties\": {\n        \"dtype\": \"number\",\n        \"std\": 1,\n        \"min\": 0,\n        \"max\": 6,\n        \"num_unique_values\": 7,\n        \"samples\": [\n          3,\n          2,\n          5\n        ],\n        \"semantic_type\": \"\",\n        \"description\": \"\"\n      }\n    },\n    {\n      \"column\": \"JARAK KELAHIRAN\",\n      \"properties\": {\n        \"dtype\": \"category\",\n        \"num_unique_values\": 4,\n        \"samples\": [\n          \"anak pertama\",\n          \"> 2 tahun\",\n          \"< 2 tahun\"\n        ],\n        \"semantic_type\": \"\",\n        \"description\": \"\"\n      }\n    },\n    {\n      \"column\": \"RIW HIPERTENSI\",\n      \"properties\": {\n        \"dtype\": \"category\",\n        \"num_unique_values\": 2,\n        \"samples\": [\n          \"Ya\",\n          \"Tidak\"\n        ],\n        \"semantic_type\": \"\",\n        \"description\": \"\"\n      }\n    },\n    {\n      \"column\": \"RIW PE\",\n      \"properties\": {\n        \"dtype\": \"category\",\n        \"num_unique_values\": 11,\n        \"samples\": [\n          \"impending eklamsia\",\n          \"Tidak\"\n        ],\n        \"semantic_type\": \"\",\n        \"description\": \"\"\n      }\n    },\n    {\n      \"column\": \"OBESITAS\",\n      \"properties\": {\n        \"dtype\": \"category\",\n        \"num_unique_values\": 2,\n        \"samples\": [\n          \"Ya\",\n          \"Tidak\"\n        ],\n        \"semantic_type\": \"\",\n        \"description\": \"\"\n      }\n    },\n    {\n      \"column\": \"RIW DM\",\n      \"properties\": {\n        \"dtype\": \"category\",\n        \"num_unique_values\": 2,\n        \"samples\": [\n          \"Tidak\",\n          \"Ya\"\n        ],\n        \"semantic_type\": \"\",\n        \"description\": \"\"\n      }\n    },\n    {\n      \"column\": \"RIW HIPERTENSI/PE DALAM KELUARGA\",\n      \"properties\": {\n        \"dtype\": \"category\",\n        \"num_unique_values\": 2,\n        \"samples\": [\n          \"Ada\",\n          \"Tidak\"\n        ],\n        \"semantic_type\": \"\",\n        \"description\": \"\"\n      }\n    },\n    {\n      \"column\": \"SOSEK RENDAH\",\n      \"properties\": {\n        \"dtype\": \"category\",\n        \"num_unique_values\": 2,\n        \"samples\": [\n          \"<UMR\",\n          \">UMR\"\n        ],\n        \"semantic_type\": \"\",\n        \"description\": \"\"\n      }\n    },\n    {\n      \"column\": \"PE/Non PE\",\n      \"properties\": {\n        \"dtype\": \"category\",\n        \"num_unique_values\": 7,\n        \"samples\": [\n          \"Non PE\",\n          \"PE\"\n        ],\n        \"semantic_type\": \"\",\n        \"description\": \"\"\n      }\n    },\n    {\n      \"column\": \"Unnamed: 12\",\n      \"properties\": {\n        \"dtype\": \"category\",\n        \"num_unique_values\": 8,\n        \"samples\": [\n          \"HT Ges\",\n          \"infertil 12 tahun\"\n        ],\n        \"semantic_type\": \"\",\n        \"description\": \"\"\n      }\n    }\n  ]\n}"
            }
          },
          "metadata": {},
          "execution_count": 2
        }
      ],
      "source": [
        "datasets = pd.read_excel('dataKasus-1.xlsx')\n",
        "datasets"
      ]
    },
    {
      "cell_type": "code",
      "execution_count": null,
      "id": "d63933df-6639-4b6e-9e2e-30e359cf6296",
      "metadata": {
        "id": "d63933df-6639-4b6e-9e2e-30e359cf6296"
      },
      "outputs": [],
      "source": [
        "datasets = datasets.drop(columns=['Unnamed: 12'])"
      ]
    },
    {
      "cell_type": "markdown",
      "source": [],
      "metadata": {
        "id": "tz5ih-wDV37a"
      },
      "id": "tz5ih-wDV37a"
    },
    {
      "cell_type": "code",
      "execution_count": null,
      "id": "f35dc9cd-584a-4085-9727-c8f6e6c2f9c1",
      "metadata": {
        "id": "f35dc9cd-584a-4085-9727-c8f6e6c2f9c1",
        "outputId": "3bfc1bd9-fa50-4ad0-fdea-c2048d7eaec2",
        "colab": {
          "base_uri": "https://localhost:8080/"
        }
      },
      "outputs": [
        {
          "output_type": "stream",
          "name": "stdout",
          "text": [
            "<class 'pandas.core.frame.DataFrame'>\n",
            "RangeIndex: 561 entries, 0 to 560\n",
            "Data columns (total 12 columns):\n",
            " #   Column                            Non-Null Count  Dtype \n",
            "---  ------                            --------------  ----- \n",
            " 0   NO                                561 non-null    int64 \n",
            " 1   NAMA                              561 non-null    object\n",
            " 2   USIA                              558 non-null    object\n",
            " 3   PARITAS                           561 non-null    int64 \n",
            " 4   JARAK KELAHIRAN                   554 non-null    object\n",
            " 5   RIW HIPERTENSI                    561 non-null    object\n",
            " 6   RIW PE                            561 non-null    object\n",
            " 7   OBESITAS                          561 non-null    object\n",
            " 8   RIW DM                            561 non-null    object\n",
            " 9   RIW HIPERTENSI/PE DALAM KELUARGA  561 non-null    object\n",
            " 10  SOSEK RENDAH                      561 non-null    object\n",
            " 11  PE/Non PE                         561 non-null    object\n",
            "dtypes: int64(2), object(10)\n",
            "memory usage: 52.7+ KB\n"
          ]
        }
      ],
      "source": [
        "datasets.columns = datasets.columns.str.strip()\n",
        "datasets.info()"
      ]
    },
    {
      "cell_type": "code",
      "execution_count": null,
      "id": "63d62663-fa88-4908-810d-d3284c52273f",
      "metadata": {
        "id": "63d62663-fa88-4908-810d-d3284c52273f",
        "outputId": "a137bc93-869f-40f0-daf9-dfaf750970d5",
        "colab": {
          "base_uri": "https://localhost:8080/"
        }
      },
      "outputs": [
        {
          "output_type": "stream",
          "name": "stdout",
          "text": [
            "NO                                  0\n",
            "NAMA                                0\n",
            "USIA                                3\n",
            "PARITAS                             0\n",
            "JARAK KELAHIRAN                     7\n",
            "RIW HIPERTENSI                      0\n",
            "RIW PE                              0\n",
            "OBESITAS                            0\n",
            "RIW DM                              0\n",
            "RIW HIPERTENSI/PE DALAM KELUARGA    0\n",
            "SOSEK RENDAH                        0\n",
            "PE/Non PE                           0\n",
            "dtype: int64\n"
          ]
        }
      ],
      "source": [
        "print(datasets.isnull().sum())"
      ]
    },
    {
      "cell_type": "code",
      "execution_count": null,
      "id": "a35035ca-f429-4878-a801-9a3c351ffae5",
      "metadata": {
        "id": "a35035ca-f429-4878-a801-9a3c351ffae5",
        "outputId": "50e0a90b-fa51-4d79-f00c-5007a565cdac",
        "colab": {
          "base_uri": "https://localhost:8080/"
        }
      },
      "outputs": [
        {
          "output_type": "stream",
          "name": "stdout",
          "text": [
            "USIA\n",
            "28 TH     28\n",
            "25 TH     24\n",
            "31 TH     23\n",
            "29 TH     22\n",
            "24 TH     21\n",
            "          ..\n",
            "30 th      1\n",
            "23         1\n",
            "37         1\n",
            "39 TH      1\n",
            "14 TH      1\n",
            "Name: count, Length: 73, dtype: int64\n"
          ]
        }
      ],
      "source": [
        "# Mengubah data menjadi string dan menghitung nilai unik\n",
        "value_counts = datasets['USIA'].astype(str).value_counts(dropna=False)\n",
        "\n",
        "print(value_counts)"
      ]
    },
    {
      "cell_type": "code",
      "execution_count": null,
      "id": "0ab8882d-8ea6-4eaf-bde6-e9f61b976fd8",
      "metadata": {
        "id": "0ab8882d-8ea6-4eaf-bde6-e9f61b976fd8"
      },
      "outputs": [],
      "source": [
        "# Mengisi nilai NaN dengan string kosong\n",
        "datasets['USIA'] = datasets['USIA'].fillna('')\n",
        "\n",
        "# Menghapus spasi ekstra dan mengambil angka\n",
        "datasets['USIA'] = datasets['USIA'].str.strip().str.extract('(\\d+)')[0]\n",
        "\n",
        "# Mengonversi ke tipe data numerik\n",
        "datasets['USIA'] = pd.to_numeric(datasets['USIA'], errors='coerce')\n",
        "\n",
        "# Mengisi nilai NaN dengan rata-rata usia\n",
        "datasets['USIA'] = datasets['USIA'].fillna(datasets['USIA'].mean())"
      ]
    },
    {
      "cell_type": "code",
      "execution_count": null,
      "id": "a4eb3bce-bacc-4950-bc69-c878b196cb11",
      "metadata": {
        "id": "a4eb3bce-bacc-4950-bc69-c878b196cb11",
        "outputId": "68a6caec-0c1b-442d-c0b0-8faaa3f8c96a",
        "colab": {
          "base_uri": "https://localhost:8080/"
        }
      },
      "outputs": [
        {
          "output_type": "stream",
          "name": "stdout",
          "text": [
            "USIA\n",
            "31.0                  41\n",
            "28.0                  41\n",
            "26.0                  35\n",
            "25.0                  35\n",
            "22.0                  35\n",
            "29.0                  34\n",
            "24.0                  33\n",
            "27.0                  27\n",
            "23.0                  25\n",
            "30.0                  25\n",
            "33.0                  23\n",
            "21.0                  21\n",
            "32.0                  20\n",
            "20.0                  20\n",
            "36.0                  18\n",
            "35.0                  17\n",
            "38.0                  15\n",
            "28.195612431444243    14\n",
            "34.0                  14\n",
            "41.0                  11\n",
            "39.0                  11\n",
            "19.0                  10\n",
            "37.0                   9\n",
            "40.0                   8\n",
            "17.0                   5\n",
            "18.0                   5\n",
            "15.0                   3\n",
            "16.0                   2\n",
            "43.0                   2\n",
            "13.0                   1\n",
            "14.0                   1\n",
            "Name: count, dtype: int64\n"
          ]
        }
      ],
      "source": [
        "# Mengubah data menjadi string dan menghitung nilai unik\n",
        "value_counts = datasets['USIA'].astype(str).value_counts(dropna=False)\n",
        "\n",
        "print(value_counts)"
      ]
    },
    {
      "cell_type": "code",
      "execution_count": null,
      "id": "2238e895-819a-461c-8791-f4b24f4ebd5e",
      "metadata": {
        "id": "2238e895-819a-461c-8791-f4b24f4ebd5e",
        "outputId": "2ce74206-8af3-455b-c0ab-86d2b4e66c5b",
        "colab": {
          "base_uri": "https://localhost:8080/"
        }
      },
      "outputs": [
        {
          "output_type": "stream",
          "name": "stdout",
          "text": [
            "PARITAS\n",
            "1    228\n",
            "2    186\n",
            "3     82\n",
            "0     39\n",
            "4     20\n",
            "5      3\n",
            "6      3\n",
            "Name: count, dtype: int64\n"
          ]
        }
      ],
      "source": [
        "# Mengubah data menjadi string dan menghitung nilai unik\n",
        "value_counts = datasets['PARITAS'].astype(str).value_counts(dropna=False)\n",
        "print(value_counts)"
      ]
    },
    {
      "cell_type": "code",
      "execution_count": null,
      "id": "23eaf977-e4cf-4b41-8020-d1ece26f510e",
      "metadata": {
        "id": "23eaf977-e4cf-4b41-8020-d1ece26f510e",
        "outputId": "2a6ba266-793f-4eab-a4d9-6327b0e79495",
        "colab": {
          "base_uri": "https://localhost:8080/"
        }
      },
      "outputs": [
        {
          "output_type": "stream",
          "name": "stdout",
          "text": [
            "JARAK KELAHIRAN\n",
            "anak pertama    260\n",
            "> 2 tahun       211\n",
            "< 2 tahun        81\n",
            "nan               7\n",
            "> 2 tahun         2\n",
            "Name: count, dtype: int64\n"
          ]
        }
      ],
      "source": [
        "# Mengubah data menjadi string dan menghitung nilai unik\n",
        "value_counts = datasets['JARAK KELAHIRAN'].astype(str).value_counts(dropna=False)\n",
        "\n",
        "print(value_counts)"
      ]
    },
    {
      "cell_type": "code",
      "execution_count": null,
      "id": "aa9fbe78-8269-468b-b237-d8f4ac51b20e",
      "metadata": {
        "id": "aa9fbe78-8269-468b-b237-d8f4ac51b20e"
      },
      "outputs": [],
      "source": [
        "imputer = SimpleImputer(strategy='most_frequent')\n",
        "from sklearn.preprocessing import LabelEncoder\n",
        "\n",
        "datasets['JARAK KELAHIRAN'] = imputer.fit_transform(datasets[['JARAK KELAHIRAN']]).ravel()\n",
        "# Mengganti nilai '> 2 tahun ' dengan '> 2 tahun'\n",
        "datasets['JARAK KELAHIRAN'] = datasets['JARAK KELAHIRAN'].replace('> 2 tahun ', '> 2 tahun')"
      ]
    },
    {
      "cell_type": "code",
      "execution_count": null,
      "id": "810bb5db-a9da-4c7c-899c-0d8a474988f1",
      "metadata": {
        "id": "810bb5db-a9da-4c7c-899c-0d8a474988f1",
        "outputId": "5a1fba7f-476d-4c2d-c9b8-a58e4a99b8cb",
        "colab": {
          "base_uri": "https://localhost:8080/"
        }
      },
      "outputs": [
        {
          "output_type": "stream",
          "name": "stdout",
          "text": [
            "JARAK KELAHIRAN\n",
            "anak pertama    267\n",
            "> 2 tahun       213\n",
            "< 2 tahun        81\n",
            "Name: count, dtype: int64\n"
          ]
        }
      ],
      "source": [
        "# Mengubah data menjadi string dan menghitung nilai unik\n",
        "value_counts = datasets['JARAK KELAHIRAN'].astype(str).value_counts(dropna=False)\n",
        "\n",
        "print(value_counts)"
      ]
    },
    {
      "cell_type": "code",
      "execution_count": null,
      "id": "8b5e64ff-3eeb-4cd6-96a7-75a33faccf49",
      "metadata": {
        "id": "8b5e64ff-3eeb-4cd6-96a7-75a33faccf49",
        "outputId": "5dcc3595-3cd2-4aa8-de5b-fba7bbc1d2fc",
        "colab": {
          "base_uri": "https://localhost:8080/"
        }
      },
      "outputs": [
        {
          "output_type": "stream",
          "name": "stdout",
          "text": [
            "RIW HIPERTENSI\n",
            "Tidak    508\n",
            "Ya        53\n",
            "Name: count, dtype: int64\n"
          ]
        }
      ],
      "source": [
        "# Mengubah data menjadi string dan menghitung nilai unik\n",
        "value_counts = datasets['RIW HIPERTENSI'].astype(str).value_counts(dropna=False)\n",
        "\n",
        "print(value_counts)"
      ]
    },
    {
      "cell_type": "code",
      "execution_count": null,
      "id": "7bea9b35-db8e-442d-96f9-753e6865579a",
      "metadata": {
        "id": "7bea9b35-db8e-442d-96f9-753e6865579a",
        "outputId": "0d622b3a-e317-4ebf-a488-74e6885dcf78",
        "colab": {
          "base_uri": "https://localhost:8080/"
        }
      },
      "outputs": [
        {
          "output_type": "stream",
          "name": "stdout",
          "text": [
            "RIW PE\n",
            "Tidak                     526\n",
            "PEB                        19\n",
            "PE                          6\n",
            "HELLP SYNDROM               2\n",
            "Impending PE                2\n",
            "Impending Eklamsia          1\n",
            "Kejang Konvulsi             1\n",
            "impending eklamsia          1\n",
            "PE, HELLP Syndrome          1\n",
            "PEB impending eklampsi      1\n",
            "Impending Ekalmsia          1\n",
            "Name: count, dtype: int64\n"
          ]
        }
      ],
      "source": [
        "# Mengubah data menjadi string dan menghitung nilai unik\n",
        "value_counts = datasets['RIW PE'].astype(str).value_counts(dropna=False)\n",
        "\n",
        "print(value_counts)"
      ]
    },
    {
      "cell_type": "code",
      "execution_count": null,
      "id": "3f43dfa0-5e73-4f4a-ac97-479997ba83e4",
      "metadata": {
        "id": "3f43dfa0-5e73-4f4a-ac97-479997ba83e4"
      },
      "outputs": [],
      "source": [
        "datasets['RIW PE'] = datasets['RIW PE'].replace(\n",
        "    to_replace=['PEB', 'PE', 'HELLP SYNDROM', 'Impending PE', 'Impending Eklamsia', 'PE, HELLP Syndrome', 'PEB impending eklampsi', 'Impending Ekalmsia', 'Kejang Konvulsi', 'impending eklamsia'],\n",
        "    value='Ada'\n",
        ")"
      ]
    },
    {
      "cell_type": "code",
      "execution_count": null,
      "id": "03e2e677-2a5c-4ddb-83d5-de1264cf6c72",
      "metadata": {
        "id": "03e2e677-2a5c-4ddb-83d5-de1264cf6c72",
        "outputId": "0b9adfb6-6f4e-4a7a-c23b-6dfb7fd178d8",
        "colab": {
          "base_uri": "https://localhost:8080/"
        }
      },
      "outputs": [
        {
          "output_type": "stream",
          "name": "stdout",
          "text": [
            "RIW PE\n",
            "Tidak    526\n",
            "Ada       35\n",
            "Name: count, dtype: int64\n"
          ]
        }
      ],
      "source": [
        "# Mengubah data menjadi string dan menghitung nilai unik\n",
        "value_counts = datasets['RIW PE'].astype(str).value_counts(dropna=False)\n",
        "\n",
        "print(value_counts)"
      ]
    },
    {
      "cell_type": "code",
      "execution_count": null,
      "id": "4ac52684-9b43-4712-8ec6-3e790ae9e9ec",
      "metadata": {
        "id": "4ac52684-9b43-4712-8ec6-3e790ae9e9ec",
        "outputId": "8224a5ff-3fdd-4844-c897-379c5004e58d",
        "colab": {
          "base_uri": "https://localhost:8080/"
        }
      },
      "outputs": [
        {
          "output_type": "stream",
          "name": "stdout",
          "text": [
            "OBESITAS\n",
            "Tidak    556\n",
            "Ya         5\n",
            "Name: count, dtype: int64\n"
          ]
        }
      ],
      "source": [
        "# Mengubah data menjadi string dan menghitung nilai unik\n",
        "value_counts = datasets['OBESITAS'].astype(str).value_counts(dropna=False)\n",
        "\n",
        "print(value_counts)"
      ]
    },
    {
      "cell_type": "code",
      "execution_count": null,
      "id": "dac513f0-b9f7-40ea-93c2-758fe31c4d31",
      "metadata": {
        "id": "dac513f0-b9f7-40ea-93c2-758fe31c4d31",
        "outputId": "4a5f7be6-8cd0-4219-b56d-a7716ebc47eb",
        "colab": {
          "base_uri": "https://localhost:8080/"
        }
      },
      "outputs": [
        {
          "output_type": "stream",
          "name": "stdout",
          "text": [
            "RIW DM\n",
            "Tidak    556\n",
            "Ya         5\n",
            "Name: count, dtype: int64\n"
          ]
        }
      ],
      "source": [
        "# Mengubah data menjadi string dan menghitung nilai unik\n",
        "value_counts = datasets['RIW DM'].astype(str).value_counts(dropna=False)\n",
        "\n",
        "print(value_counts)"
      ]
    },
    {
      "cell_type": "code",
      "execution_count": null,
      "id": "62a00c14-cd14-47b4-bd11-59cae96d40a2",
      "metadata": {
        "id": "62a00c14-cd14-47b4-bd11-59cae96d40a2",
        "outputId": "e63bbd99-94a4-4ee3-962b-e59615c71e5d",
        "colab": {
          "base_uri": "https://localhost:8080/"
        }
      },
      "outputs": [
        {
          "output_type": "stream",
          "name": "stdout",
          "text": [
            "RIW HIPERTENSI/PE DALAM KELUARGA\n",
            "Tidak    550\n",
            "Ada       11\n",
            "Name: count, dtype: int64\n"
          ]
        }
      ],
      "source": [
        "value_counts = datasets['RIW HIPERTENSI/PE DALAM KELUARGA'].astype(str).value_counts(dropna=False)\n",
        "\n",
        "print(value_counts)"
      ]
    },
    {
      "cell_type": "code",
      "execution_count": null,
      "id": "c1ed4354-2dd1-48c2-8536-f433fea279a1",
      "metadata": {
        "id": "c1ed4354-2dd1-48c2-8536-f433fea279a1",
        "outputId": "75d5a044-6f6b-4bd0-99af-0913b8b2d76a",
        "colab": {
          "base_uri": "https://localhost:8080/"
        }
      },
      "outputs": [
        {
          "output_type": "stream",
          "name": "stdout",
          "text": [
            "SOSEK RENDAH\n",
            ">UMR    557\n",
            "<UMR      4\n",
            "Name: count, dtype: int64\n"
          ]
        }
      ],
      "source": [
        "value_counts = datasets['SOSEK RENDAH'].astype(str).value_counts(dropna=False)\n",
        "\n",
        "print(value_counts)"
      ]
    },
    {
      "cell_type": "code",
      "execution_count": null,
      "id": "0b13e5b5-b24d-4750-a01e-eba78464ab00",
      "metadata": {
        "id": "0b13e5b5-b24d-4750-a01e-eba78464ab00",
        "outputId": "88757f54-e30e-4bc0-8d43-be70eb03c049",
        "colab": {
          "base_uri": "https://localhost:8080/"
        }
      },
      "outputs": [
        {
          "output_type": "stream",
          "name": "stdout",
          "text": [
            "PE/Non PE\n",
            "Non PE                    520\n",
            "PEB                        20\n",
            "PE                         17\n",
            "Eklamsia                    1\n",
            "PE gemelli                  1\n",
            "PEB impending eklampsi      1\n",
            "PE                          1\n",
            "Name: count, dtype: int64\n"
          ]
        }
      ],
      "source": [
        "value_counts = datasets['PE/Non PE'].astype(str).value_counts(dropna=False)\n",
        "\n",
        "print(value_counts)"
      ]
    },
    {
      "cell_type": "code",
      "execution_count": null,
      "id": "23034bda-af3b-44a8-9814-81d83041deb7",
      "metadata": {
        "id": "23034bda-af3b-44a8-9814-81d83041deb7"
      },
      "outputs": [],
      "source": [
        "datasets['PE/Non PE'] = datasets['PE/Non PE'].replace(\n",
        "    to_replace=['PEB', 'PE', 'Eklamsia', 'PE gemelli', 'PEB impending eklampsi', 'PE '],\n",
        "    value='PE'\n",
        ")"
      ]
    },
    {
      "cell_type": "code",
      "execution_count": null,
      "id": "1b078154-75ab-4703-8b61-0721aaf06617",
      "metadata": {
        "id": "1b078154-75ab-4703-8b61-0721aaf06617",
        "outputId": "4a0bfd3a-3b9f-43c8-b598-2b2a1648b601",
        "colab": {
          "base_uri": "https://localhost:8080/"
        }
      },
      "outputs": [
        {
          "output_type": "stream",
          "name": "stdout",
          "text": [
            "PE/Non PE\n",
            "Non PE    520\n",
            "PE         41\n",
            "Name: count, dtype: int64\n"
          ]
        }
      ],
      "source": [
        "value_counts = datasets['PE/Non PE'].astype(str).value_counts(dropna=False)\n",
        "\n",
        "print(value_counts)"
      ]
    },
    {
      "cell_type": "code",
      "execution_count": null,
      "id": "86053c65-a14c-4a48-92f3-904d834db8b8",
      "metadata": {
        "id": "86053c65-a14c-4a48-92f3-904d834db8b8",
        "outputId": "758f9243-90e0-4f65-cc20-4fb40466147e",
        "colab": {
          "base_uri": "https://localhost:8080/",
          "height": 507
        }
      },
      "outputs": [
        {
          "output_type": "display_data",
          "data": {
            "text/plain": [
              "<Figure size 640x480 with 1 Axes>"
            ],
            "image/png": "[encoded data removed]"
          },
          "metadata": {}
        }
      ],
      "source": [
        "import pandas as pd\n",
        "import matplotlib.pyplot as plt\n",
        "\n",
        "value_counts = datasets['PE/Non PE'].value_counts()\n",
        "\n",
        "# Create a bar chart\n",
        "ax = value_counts.plot(kind='bar', color=['skyblue', 'orange'])\n",
        "\n",
        "# Add title and labels\n",
        "plt.title('PE/Non PE Distribution')\n",
        "plt.xlabel('Category')\n",
        "plt.ylabel('Count')\n",
        "\n",
        "# Add count labels on top of each bar\n",
        "for i, count in enumerate(value_counts):\n",
        "    ax.text(i, count , str(count), ha='center', va='bottom')\n",
        "\n",
        "# Display the bar chart\n",
        "plt.show()"
      ]
    },
    {
      "cell_type": "code",
      "execution_count": null,
      "id": "01f17db7-4c22-4de5-9a8f-ecdcfc069e13",
      "metadata": {
        "id": "01f17db7-4c22-4de5-9a8f-ecdcfc069e13",
        "outputId": "e906c8a5-bfd8-454a-d3ee-3d1aa6ebef93",
        "colab": {
          "base_uri": "https://localhost:8080/"
        }
      },
      "outputs": [
        {
          "output_type": "stream",
          "name": "stdout",
          "text": [
            "<class 'pandas.core.frame.DataFrame'>\n",
            "RangeIndex: 561 entries, 0 to 560\n",
            "Data columns (total 12 columns):\n",
            " #   Column                            Non-Null Count  Dtype  \n",
            "---  ------                            --------------  -----  \n",
            " 0   NO                                561 non-null    int64  \n",
            " 1   NAMA                              561 non-null    object \n",
            " 2   USIA                              561 non-null    float64\n",
            " 3   PARITAS                           561 non-null    int64  \n",
            " 4   JARAK KELAHIRAN                   561 non-null    object \n",
            " 5   RIW HIPERTENSI                    561 non-null    object \n",
            " 6   RIW PE                            561 non-null    object \n",
            " 7   OBESITAS                          561 non-null    object \n",
            " 8   RIW DM                            561 non-null    object \n",
            " 9   RIW HIPERTENSI/PE DALAM KELUARGA  561 non-null    object \n",
            " 10  SOSEK RENDAH                      561 non-null    object \n",
            " 11  PE/Non PE                         561 non-null    object \n",
            "dtypes: float64(1), int64(2), object(9)\n",
            "memory usage: 52.7+ KB\n"
          ]
        }
      ],
      "source": [
        "datasets.info()"
      ]
    },
    {
      "cell_type": "markdown",
      "id": "506ed822-e8cc-467c-87d6-f2d0d01f1c36",
      "metadata": {
        "id": "506ed822-e8cc-467c-87d6-f2d0d01f1c36"
      },
      "source": [
        "## Konversi Nilai ke Numerik"
      ]
    },
    {
      "cell_type": "code",
      "execution_count": null,
      "id": "3280205b-7c77-4af9-acde-1e3e3550b78d",
      "metadata": {
        "id": "3280205b-7c77-4af9-acde-1e3e3550b78d"
      },
      "outputs": [],
      "source": [
        "# label_encoder = LabelEncoder()\n",
        "# datasets['PARITAS'] = label_encoder.fit_transform(datasets['PARITAS'])"
      ]
    },
    {
      "cell_type": "code",
      "execution_count": null,
      "id": "99c82eb4-4c63-4422-9565-e63185c66988",
      "metadata": {
        "id": "99c82eb4-4c63-4422-9565-e63185c66988",
        "outputId": "3fd6f44e-3730-4f9b-c5ce-ec4376522749",
        "colab": {
          "base_uri": "https://localhost:8080/"
        }
      },
      "outputs": [
        {
          "output_type": "stream",
          "name": "stdout",
          "text": [
            "PARITAS\n",
            "1    228\n",
            "2    186\n",
            "3     82\n",
            "0     39\n",
            "4     20\n",
            "5      3\n",
            "6      3\n",
            "Name: count, dtype: int64\n"
          ]
        }
      ],
      "source": [
        "# Mengubah data menjadi string dan menghitung nilai unik\n",
        "value_counts = datasets['PARITAS'].astype(str).value_counts(dropna=False)\n",
        "\n",
        "print(value_counts)"
      ]
    },
    {
      "cell_type": "code",
      "execution_count": null,
      "id": "97be9883-0b5c-43ee-a858-e60a883b8bf0",
      "metadata": {
        "id": "97be9883-0b5c-43ee-a858-e60a883b8bf0"
      },
      "outputs": [],
      "source": [
        "label_encoder = LabelEncoder()\n",
        "datasets['JARAK KELAHIRAN'] = label_encoder.fit_transform(datasets['JARAK KELAHIRAN'])"
      ]
    },
    {
      "cell_type": "code",
      "execution_count": null,
      "id": "76c8b545-9117-4067-aa4d-039334ded7a3",
      "metadata": {
        "id": "76c8b545-9117-4067-aa4d-039334ded7a3",
        "outputId": "481c0cc5-a35e-4eb5-ea95-d1b4c36edad2",
        "colab": {
          "base_uri": "https://localhost:8080/"
        }
      },
      "outputs": [
        {
          "output_type": "stream",
          "name": "stdout",
          "text": [
            "JARAK KELAHIRAN\n",
            "2    267\n",
            "1    213\n",
            "0     81\n",
            "Name: count, dtype: int64\n"
          ]
        }
      ],
      "source": [
        "# Mengubah data menjadi string dan menghitung nilai unik\n",
        "value_counts = datasets['JARAK KELAHIRAN'].astype(str).value_counts(dropna=False)\n",
        "\n",
        "print(value_counts)"
      ]
    },
    {
      "cell_type": "code",
      "execution_count": null,
      "id": "3ceeebeb-8f67-4724-9e5d-b0aded6f1eae",
      "metadata": {
        "id": "3ceeebeb-8f67-4724-9e5d-b0aded6f1eae"
      },
      "outputs": [],
      "source": [
        "from sklearn.preprocessing import OneHotEncoder"
      ]
    },
    {
      "cell_type": "code",
      "execution_count": null,
      "id": "48206c34-5c55-44a0-a44f-1a9bfe07aa00",
      "metadata": {
        "id": "48206c34-5c55-44a0-a44f-1a9bfe07aa00"
      },
      "outputs": [],
      "source": [
        "# Inisialisasi OneHotEncoder\n",
        "encoder = OneHotEncoder(sparse_output=False)  # sparse_output=False agar output berupa array, bukan sparse matrix\n",
        "\n",
        "# Terapkan OneHotEncoder\n",
        "one_hot_encoded = encoder.fit_transform(datasets[['RIW HIPERTENSI']])\n",
        "\n",
        "# Dapatkan nama kolom baru dari encoder\n",
        "one_hot_columns = encoder.get_feature_names_out(['RIW HIPERTENSI'])\n",
        "\n",
        "# Buat DataFrame baru dari hasil One-Hot Encoding\n",
        "one_hot_df = pd.DataFrame(one_hot_encoded, columns=one_hot_columns)\n",
        "\n",
        "# Gabungkan dengan DataFrame asli (atau gantikan kolom asli)\n",
        "datasets = pd.concat([datasets.drop('RIW HIPERTENSI', axis=1), one_hot_df], axis=1)"
      ]
    },
    {
      "cell_type": "code",
      "execution_count": null,
      "id": "37b645a7-6630-450e-8861-be1f0353e1a0",
      "metadata": {
        "id": "37b645a7-6630-450e-8861-be1f0353e1a0"
      },
      "outputs": [],
      "source": [
        "# Inisialisasi OneHotEncoder\n",
        "encoder = OneHotEncoder(sparse_output=False)  # sparse_output=False agar output berupa array, bukan sparse matrix\n",
        "\n",
        "# Terapkan OneHotEncoder\n",
        "one_hot_encoded = encoder.fit_transform(datasets[['RIW PE']])\n",
        "\n",
        "# Dapatkan nama kolom baru dari encoder\n",
        "one_hot_columns = encoder.get_feature_names_out(['RIW PE'])\n",
        "\n",
        "# Buat DataFrame baru dari hasil One-Hot Encoding\n",
        "one_hot_df = pd.DataFrame(one_hot_encoded, columns=one_hot_columns)\n",
        "\n",
        "# Gabungkan dengan DataFrame asli (atau gantikan kolom asli)\n",
        "datasets = pd.concat([datasets.drop('RIW PE', axis=1), one_hot_df], axis=1)"
      ]
    },
    {
      "cell_type": "code",
      "execution_count": null,
      "id": "0738b8e1-5481-442c-a812-6dc5d0d13a96",
      "metadata": {
        "id": "0738b8e1-5481-442c-a812-6dc5d0d13a96"
      },
      "outputs": [],
      "source": [
        "# Inisialisasi OneHotEncoder\n",
        "encoder = OneHotEncoder(sparse_output=False)  # sparse_output=False agar output berupa array, bukan sparse matrix\n",
        "\n",
        "# Terapkan OneHotEncoder\n",
        "one_hot_encoded = encoder.fit_transform(datasets[['OBESITAS']])\n",
        "\n",
        "# Dapatkan nama kolom baru dari encoder\n",
        "one_hot_columns = encoder.get_feature_names_out(['OBESITAS'])\n",
        "\n",
        "# Buat DataFrame baru dari hasil One-Hot Encoding\n",
        "one_hot_df = pd.DataFrame(one_hot_encoded, columns=one_hot_columns)\n",
        "\n",
        "# Gabungkan dengan DataFrame asli (atau gantikan kolom asli)\n",
        "datasets = pd.concat([datasets.drop('OBESITAS', axis=1), one_hot_df], axis=1)"
      ]
    },
    {
      "cell_type": "code",
      "execution_count": null,
      "id": "5cf3f046-f0c6-4a81-a636-dd6fa150697d",
      "metadata": {
        "id": "5cf3f046-f0c6-4a81-a636-dd6fa150697d"
      },
      "outputs": [],
      "source": [
        "# Inisialisasi OneHotEncoder\n",
        "encoder = OneHotEncoder(sparse_output=False)  # sparse_output=False agar output berupa array, bukan sparse matrix\n",
        "\n",
        "# Terapkan OneHotEncoder\n",
        "one_hot_encoded = encoder.fit_transform(datasets[['RIW DM']])\n",
        "\n",
        "# Dapatkan nama kolom baru dari encoder\n",
        "one_hot_columns = encoder.get_feature_names_out(['RIW DM'])\n",
        "\n",
        "# Buat DataFrame baru dari hasil One-Hot Encoding\n",
        "one_hot_df = pd.DataFrame(one_hot_encoded, columns=one_hot_columns)\n",
        "\n",
        "# Gabungkan dengan DataFrame asli (atau gantikan kolom asli)\n",
        "datasets = pd.concat([datasets.drop('RIW DM', axis=1), one_hot_df], axis=1)"
      ]
    },
    {
      "cell_type": "code",
      "execution_count": null,
      "id": "4376d1f7-4a08-4a9b-b751-124a67fddf18",
      "metadata": {
        "id": "4376d1f7-4a08-4a9b-b751-124a67fddf18"
      },
      "outputs": [],
      "source": [
        "# datasets['RIW HIPERTENSI/PE DALAM KELUARGA'] = label_encoder.fit_transform(datasets['RIW HIPERTENSI/PE DALAM KELUARGA'])\n",
        "\n",
        "# Inisialisasi OneHotEncoder\n",
        "encoder = OneHotEncoder(sparse_output=False)  # sparse_output=False agar output berupa array, bukan sparse matrix\n",
        "\n",
        "# Terapkan OneHotEncoder\n",
        "one_hot_encoded = encoder.fit_transform(datasets[['RIW HIPERTENSI/PE DALAM KELUARGA']])\n",
        "\n",
        "# Dapatkan nama kolom baru dari encoder\n",
        "one_hot_columns = encoder.get_feature_names_out(['RIW HIPERTENSI/PE DALAM KELUARGA'])\n",
        "\n",
        "# Buat DataFrame baru dari hasil One-Hot Encoding\n",
        "one_hot_df = pd.DataFrame(one_hot_encoded, columns=one_hot_columns)\n",
        "\n",
        "# Gabungkan dengan DataFrame asli (atau gantikan kolom asli)\n",
        "datasets = pd.concat([datasets.drop('RIW HIPERTENSI/PE DALAM KELUARGA', axis=1), one_hot_df], axis=1)"
      ]
    },
    {
      "cell_type": "code",
      "execution_count": null,
      "id": "23fcd00e-be01-4b5f-912b-afa0851e6cb1",
      "metadata": {
        "id": "23fcd00e-be01-4b5f-912b-afa0851e6cb1"
      },
      "outputs": [],
      "source": [
        "# datasets['SOSEK RENDAH'] = label_encoder.fit_transform(datasets['SOSEK RENDAH'])\n",
        "\n",
        "# Inisialisasi OneHotEncoder\n",
        "encoder = OneHotEncoder(sparse_output=False)  # sparse_output=False agar output berupa array, bukan sparse matrix\n",
        "\n",
        "# Terapkan OneHotEncoder\n",
        "one_hot_encoded = encoder.fit_transform(datasets[['SOSEK RENDAH']])\n",
        "\n",
        "# Dapatkan nama kolom baru dari encoder\n",
        "one_hot_columns = encoder.get_feature_names_out(['SOSEK RENDAH'])\n",
        "\n",
        "# Buat DataFrame baru dari hasil One-Hot Encoding\n",
        "one_hot_df = pd.DataFrame(one_hot_encoded, columns=one_hot_columns)\n",
        "\n",
        "# Gabungkan dengan DataFrame asli (atau gantikan kolom asli)\n",
        "datasets = pd.concat([datasets.drop('SOSEK RENDAH', axis=1), one_hot_df], axis=1)"
      ]
    },
    {
      "cell_type": "code",
      "execution_count": null,
      "id": "af80d617-10c0-4c04-aa89-f49ca9ad5177",
      "metadata": {
        "id": "af80d617-10c0-4c04-aa89-f49ca9ad5177"
      },
      "outputs": [],
      "source": [
        "datasets['PE/Non PE'] = label_encoder.fit_transform(datasets['PE/Non PE'])"
      ]
    },
    {
      "cell_type": "code",
      "execution_count": null,
      "id": "797f8589-7dc8-49e7-a2f8-8659031757ea",
      "metadata": {
        "id": "797f8589-7dc8-49e7-a2f8-8659031757ea",
        "outputId": "ae12df56-015e-4dd8-fefc-8a3266b6bef9",
        "colab": {
          "base_uri": "https://localhost:8080/"
        }
      },
      "outputs": [
        {
          "output_type": "stream",
          "name": "stdout",
          "text": [
            "PE/Non PE\n",
            "0    520\n",
            "1     41\n",
            "Name: count, dtype: int64\n"
          ]
        }
      ],
      "source": [
        "value_counts = datasets['PE/Non PE'].astype(str).value_counts(dropna=False)\n",
        "\n",
        "print(value_counts)"
      ]
    },
    {
      "cell_type": "code",
      "execution_count": null,
      "id": "ac7b4492-1404-4827-a673-3c27cf0c4d36",
      "metadata": {
        "id": "ac7b4492-1404-4827-a673-3c27cf0c4d36",
        "outputId": "004bdfdd-83f1-4615-a709-a08a9a846680",
        "colab": {
          "base_uri": "https://localhost:8080/"
        }
      },
      "outputs": [
        {
          "output_type": "stream",
          "name": "stdout",
          "text": [
            "<class 'pandas.core.frame.DataFrame'>\n",
            "RangeIndex: 561 entries, 0 to 560\n",
            "Data columns (total 18 columns):\n",
            " #   Column                                  Non-Null Count  Dtype  \n",
            "---  ------                                  --------------  -----  \n",
            " 0   NO                                      561 non-null    int64  \n",
            " 1   NAMA                                    561 non-null    object \n",
            " 2   USIA                                    561 non-null    float64\n",
            " 3   PARITAS                                 561 non-null    int64  \n",
            " 4   JARAK KELAHIRAN                         561 non-null    int64  \n",
            " 5   PE/Non PE                               561 non-null    int64  \n",
            " 6   RIW HIPERTENSI_Tidak                    561 non-null    float64\n",
            " 7   RIW HIPERTENSI_Ya                       561 non-null    float64\n",
            " 8   RIW PE_Ada                              561 non-null    float64\n",
            " 9   RIW PE_Tidak                            561 non-null    float64\n",
            " 10  OBESITAS_Tidak                          561 non-null    float64\n",
            " 11  OBESITAS_Ya                             561 non-null    float64\n",
            " 12  RIW DM_Tidak                            561 non-null    float64\n",
            " 13  RIW DM_Ya                               561 non-null    float64\n",
            " 14  RIW HIPERTENSI/PE DALAM KELUARGA_Ada    561 non-null    float64\n",
            " 15  RIW HIPERTENSI/PE DALAM KELUARGA_Tidak  561 non-null    float64\n",
            " 16  SOSEK RENDAH_<UMR                       561 non-null    float64\n",
            " 17  SOSEK RENDAH_>UMR                       561 non-null    float64\n",
            "dtypes: float64(13), int64(4), object(1)\n",
            "memory usage: 79.0+ KB\n"
          ]
        }
      ],
      "source": [
        "datasets.info()"
      ]
    },
    {
      "cell_type": "code",
      "execution_count": null,
      "id": "e6f0fb83-383d-4d80-a5b8-b4d66af2fb23",
      "metadata": {
        "id": "e6f0fb83-383d-4d80-a5b8-b4d66af2fb23",
        "outputId": "b846dc82-669d-491e-9bf4-3935baeb1292",
        "colab": {
          "base_uri": "https://localhost:8080/",
          "height": 669
        }
      },
      "outputs": [
        {
          "output_type": "execute_result",
          "data": {
            "text/plain": [
              "      NO      NAMA  USIA  PARITAS  JARAK KELAHIRAN  PE/Non PE  \\\n",
              "0      1    NAMA 1  23.0        3                0          0   \n",
              "1      2    NAMA 2  29.0        2                0          1   \n",
              "2      3    NAMA 3  20.0        1                2          0   \n",
              "3      4    NAMA 4  18.0        1                2          0   \n",
              "4      5    NAMA 5  34.0        3                1          0   \n",
              "..   ...       ...   ...      ...              ...        ...   \n",
              "556  558  NAMA 557  40.0        3                1          0   \n",
              "557  559  NAMA 558  28.0        3                0          0   \n",
              "558  560  NAMA 559  41.0        3                1          0   \n",
              "559  561  NAMA 560  32.0        2                1          0   \n",
              "560  562  NAMA 561  30.0        2                1          0   \n",
              "\n",
              "     RIW HIPERTENSI_Tidak  RIW HIPERTENSI_Ya  RIW PE_Ada  RIW PE_Tidak  \\\n",
              "0                     1.0                0.0         0.0           1.0   \n",
              "1                     1.0                0.0         1.0           0.0   \n",
              "2                     1.0                0.0         0.0           1.0   \n",
              "3                     1.0                0.0         0.0           1.0   \n",
              "4                     1.0                0.0         0.0           1.0   \n",
              "..                    ...                ...         ...           ...   \n",
              "556                   1.0                0.0         0.0           1.0   \n",
              "557                   1.0                0.0         0.0           1.0   \n",
              "558                   1.0                0.0         0.0           1.0   \n",
              "559                   1.0                0.0         0.0           1.0   \n",
              "560                   1.0                0.0         0.0           1.0   \n",
              "\n",
              "     OBESITAS_Tidak  OBESITAS_Ya  RIW DM_Tidak  RIW DM_Ya  \\\n",
              "0               1.0          0.0           0.0        1.0   \n",
              "1               1.0          0.0           1.0        0.0   \n",
              "2               1.0          0.0           1.0        0.0   \n",
              "3               1.0          0.0           1.0        0.0   \n",
              "4               1.0          0.0           1.0        0.0   \n",
              "..              ...          ...           ...        ...   \n",
              "556             1.0          0.0           1.0        0.0   \n",
              "557             1.0          0.0           1.0        0.0   \n",
              "558             1.0          0.0           1.0        0.0   \n",
              "559             1.0          0.0           1.0        0.0   \n",
              "560             1.0          0.0           1.0        0.0   \n",
              "\n",
              "     RIW HIPERTENSI/PE DALAM KELUARGA_Ada  \\\n",
              "0                                     0.0   \n",
              "1                                     1.0   \n",
              "2                                     0.0   \n",
              "3                                     0.0   \n",
              "4                                     0.0   \n",
              "..                                    ...   \n",
              "556                                   0.0   \n",
              "557                                   0.0   \n",
              "558                                   0.0   \n",
              "559                                   0.0   \n",
              "560                                   0.0   \n",
              "\n",
              "     RIW HIPERTENSI/PE DALAM KELUARGA_Tidak  SOSEK RENDAH_<UMR  \\\n",
              "0                                       1.0                0.0   \n",
              "1                                       0.0                0.0   \n",
              "2                                       1.0                0.0   \n",
              "3                                       1.0                0.0   \n",
              "4                                       1.0                0.0   \n",
              "..                                      ...                ...   \n",
              "556                                     1.0                0.0   \n",
              "557                                     1.0                0.0   \n",
              "558                                     1.0                0.0   \n",
              "559                                     1.0                0.0   \n",
              "560                                     1.0                0.0   \n",
              "\n",
              "     SOSEK RENDAH_>UMR  \n",
              "0                  1.0  \n",
              "1                  1.0  \n",
              "2                  1.0  \n",
              "3                  1.0  \n",
              "4                  1.0  \n",
              "..                 ...  \n",
              "556                1.0  \n",
              "557                1.0  \n",
              "558                1.0  \n",
              "559                1.0  \n",
              "560                1.0  \n",
              "\n",
              "[561 rows x 18 columns]"
            ],
            "text/html": [
              "\n",
              "  <div id=\"df-c3b0359a-f528-42a4-9a9d-84c5324600a5\" class=\"colab-df-container\">\n",
              "    <div>\n",
              "<style scoped>\n",
              "    .dataframe tbody tr th:only-of-type {\n",
              "        vertical-align: middle;\n",
              "    }\n",
              "\n",
              "    .dataframe tbody tr th {\n",
              "        vertical-align: top;\n",
              "    }\n",
              "\n",
              "    .dataframe thead th {\n",
              "        text-align: right;\n",
              "    }\n",
              "</style>\n",
              "<table border=\"1\" class=\"dataframe\">\n",
              "  <thead>\n",
              "    <tr style=\"text-align: right;\">\n",
              "      <th></th>\n",
              "      <th>NO</th>\n",
              "      <th>NAMA</th>\n",
              "      <th>USIA</th>\n",
              "      <th>PARITAS</th>\n",
              "      <th>JARAK KELAHIRAN</th>\n",
              "      <th>PE/Non PE</th>\n",
              "      <th>RIW HIPERTENSI_Tidak</th>\n",
              "      <th>RIW HIPERTENSI_Ya</th>\n",
              "      <th>RIW PE_Ada</th>\n",
              "      <th>RIW PE_Tidak</th>\n",
              "      <th>OBESITAS_Tidak</th>\n",
              "      <th>OBESITAS_Ya</th>\n",
              "      <th>RIW DM_Tidak</th>\n",
              "      <th>RIW DM_Ya</th>\n",
              "      <th>RIW HIPERTENSI/PE DALAM KELUARGA_Ada</th>\n",
              "      <th>RIW HIPERTENSI/PE DALAM KELUARGA_Tidak</th>\n",
              "      <th>SOSEK RENDAH_&lt;UMR</th>\n",
              "      <th>SOSEK RENDAH_&gt;UMR</th>\n",
              "    </tr>\n",
              "  </thead>\n",
              "  <tbody>\n",
              "    <tr>\n",
              "      <th>0</th>\n",
              "      <td>1</td>\n",
              "      <td>NAMA 1</td>\n",
              "      <td>23.0</td>\n",
              "      <td>3</td>\n",
              "      <td>0</td>\n",
              "      <td>0</td>\n",
              "      <td>1.0</td>\n",
              "      <td>0.0</td>\n",
              "      <td>0.0</td>\n",
              "      <td>1.0</td>\n",
              "      <td>1.0</td>\n",
              "      <td>0.0</td>\n",
              "      <td>0.0</td>\n",
              "      <td>1.0</td>\n",
              "      <td>0.0</td>\n",
              "      <td>1.0</td>\n",
              "      <td>0.0</td>\n",
              "      <td>1.0</td>\n",
              "    </tr>\n",
              "    <tr>\n",
              "      <th>1</th>\n",
              "      <td>2</td>\n",
              "      <td>NAMA 2</td>\n",
              "      <td>29.0</td>\n",
              "      <td>2</td>\n",
              "      <td>0</td>\n",
              "      <td>1</td>\n",
              "      <td>1.0</td>\n",
              "      <td>0.0</td>\n",
              "      <td>1.0</td>\n",
              "      <td>0.0</td>\n",
              "      <td>1.0</td>\n",
              "      <td>0.0</td>\n",
              "      <td>1.0</td>\n",
              "      <td>0.0</td>\n",
              "      <td>1.0</td>\n",
              "      <td>0.0</td>\n",
              "      <td>0.0</td>\n",
              "      <td>1.0</td>\n",
              "    </tr>\n",
              "    <tr>\n",
              "      <th>2</th>\n",
              "      <td>3</td>\n",
              "      <td>NAMA 3</td>\n",
              "      <td>20.0</td>\n",
              "      <td>1</td>\n",
              "      <td>2</td>\n",
              "      <td>0</td>\n",
              "      <td>1.0</td>\n",
              "      <td>0.0</td>\n",
              "      <td>0.0</td>\n",
              "      <td>1.0</td>\n",
              "      <td>1.0</td>\n",
              "      <td>0.0</td>\n",
              "      <td>1.0</td>\n",
              "      <td>0.0</td>\n",
              "      <td>0.0</td>\n",
              "      <td>1.0</td>\n",
              "      <td>0.0</td>\n",
              "      <td>1.0</td>\n",
              "    </tr>\n",
              "    <tr>\n",
              "      <th>3</th>\n",
              "      <td>4</td>\n",
              "      <td>NAMA 4</td>\n",
              "      <td>18.0</td>\n",
              "      <td>1</td>\n",
              "      <td>2</td>\n",
              "      <td>0</td>\n",
              "      <td>1.0</td>\n",
              "      <td>0.0</td>\n",
              "      <td>0.0</td>\n",
              "      <td>1.0</td>\n",
              "      <td>1.0</td>\n",
              "      <td>0.0</td>\n",
              "      <td>1.0</td>\n",
              "      <td>0.0</td>\n",
              "      <td>0.0</td>\n",
              "      <td>1.0</td>\n",
              "      <td>0.0</td>\n",
              "      <td>1.0</td>\n",
              "    </tr>\n",
              "    <tr>\n",
              "      <th>4</th>\n",
              "      <td>5</td>\n",
              "      <td>NAMA 5</td>\n",
              "      <td>34.0</td>\n",
              "      <td>3</td>\n",
              "      <td>1</td>\n",
              "      <td>0</td>\n",
              "      <td>1.0</td>\n",
              "      <td>0.0</td>\n",
              "      <td>0.0</td>\n",
              "      <td>1.0</td>\n",
              "      <td>1.0</td>\n",
              "      <td>0.0</td>\n",
              "      <td>1.0</td>\n",
              "      <td>0.0</td>\n",
              "      <td>0.0</td>\n",
              "      <td>1.0</td>\n",
              "      <td>0.0</td>\n",
              "      <td>1.0</td>\n",
              "    </tr>\n",
              "    <tr>\n",
              "      <th>...</th>\n",
              "      <td>...</td>\n",
              "      <td>...</td>\n",
              "      <td>...</td>\n",
              "      <td>...</td>\n",
              "      <td>...</td>\n",
              "      <td>...</td>\n",
              "      <td>...</td>\n",
              "      <td>...</td>\n",
              "      <td>...</td>\n",
              "      <td>...</td>\n",
              "      <td>...</td>\n",
              "      <td>...</td>\n",
              "      <td>...</td>\n",
              "      <td>...</td>\n",
              "      <td>...</td>\n",
              "      <td>...</td>\n",
              "      <td>...</td>\n",
              "      <td>...</td>\n",
              "    </tr>\n",
              "    <tr>\n",
              "      <th>556</th>\n",
              "      <td>558</td>\n",
              "      <td>NAMA 557</td>\n",
              "      <td>40.0</td>\n",
              "      <td>3</td>\n",
              "      <td>1</td>\n",
              "      <td>0</td>\n",
              "      <td>1.0</td>\n",
              "      <td>0.0</td>\n",
              "      <td>0.0</td>\n",
              "      <td>1.0</td>\n",
              "      <td>1.0</td>\n",
              "      <td>0.0</td>\n",
              "      <td>1.0</td>\n",
              "      <td>0.0</td>\n",
              "      <td>0.0</td>\n",
              "      <td>1.0</td>\n",
              "      <td>0.0</td>\n",
              "      <td>1.0</td>\n",
              "    </tr>\n",
              "    <tr>\n",
              "      <th>557</th>\n",
              "      <td>559</td>\n",
              "      <td>NAMA 558</td>\n",
              "      <td>28.0</td>\n",
              "      <td>3</td>\n",
              "      <td>0</td>\n",
              "      <td>0</td>\n",
              "      <td>1.0</td>\n",
              "      <td>0.0</td>\n",
              "      <td>0.0</td>\n",
              "      <td>1.0</td>\n",
              "      <td>1.0</td>\n",
              "      <td>0.0</td>\n",
              "      <td>1.0</td>\n",
              "      <td>0.0</td>\n",
              "      <td>0.0</td>\n",
              "      <td>1.0</td>\n",
              "      <td>0.0</td>\n",
              "      <td>1.0</td>\n",
              "    </tr>\n",
              "    <tr>\n",
              "      <th>558</th>\n",
              "      <td>560</td>\n",
              "      <td>NAMA 559</td>\n",
              "      <td>41.0</td>\n",
              "      <td>3</td>\n",
              "      <td>1</td>\n",
              "      <td>0</td>\n",
              "      <td>1.0</td>\n",
              "      <td>0.0</td>\n",
              "      <td>0.0</td>\n",
              "      <td>1.0</td>\n",
              "      <td>1.0</td>\n",
              "      <td>0.0</td>\n",
              "      <td>1.0</td>\n",
              "      <td>0.0</td>\n",
              "      <td>0.0</td>\n",
              "      <td>1.0</td>\n",
              "      <td>0.0</td>\n",
              "      <td>1.0</td>\n",
              "    </tr>\n",
              "    <tr>\n",
              "      <th>559</th>\n",
              "      <td>561</td>\n",
              "      <td>NAMA 560</td>\n",
              "      <td>32.0</td>\n",
              "      <td>2</td>\n",
              "      <td>1</td>\n",
              "      <td>0</td>\n",
              "      <td>1.0</td>\n",
              "      <td>0.0</td>\n",
              "      <td>0.0</td>\n",
              "      <td>1.0</td>\n",
              "      <td>1.0</td>\n",
              "      <td>0.0</td>\n",
              "      <td>1.0</td>\n",
              "      <td>0.0</td>\n",
              "      <td>0.0</td>\n",
              "      <td>1.0</td>\n",
              "      <td>0.0</td>\n",
              "      <td>1.0</td>\n",
              "    </tr>\n",
              "    <tr>\n",
              "      <th>560</th>\n",
              "      <td>562</td>\n",
              "      <td>NAMA 561</td>\n",
              "      <td>30.0</td>\n",
              "      <td>2</td>\n",
              "      <td>1</td>\n",
              "      <td>0</td>\n",
              "      <td>1.0</td>\n",
              "      <td>0.0</td>\n",
              "      <td>0.0</td>\n",
              "      <td>1.0</td>\n",
              "      <td>1.0</td>\n",
              "      <td>0.0</td>\n",
              "      <td>1.0</td>\n",
              "      <td>0.0</td>\n",
              "      <td>0.0</td>\n",
              "      <td>1.0</td>\n",
              "      <td>0.0</td>\n",
              "      <td>1.0</td>\n",
              "    </tr>\n",
              "  </tbody>\n",
              "</table>\n",
              "<p>561 rows × 18 columns</p>\n",
              "</div>\n",
              "    <div class=\"colab-df-buttons\">\n",
              "\n",
              "  <div class=\"colab-df-container\">\n",
              "    <button class=\"colab-df-convert\" onclick=\"convertToInteractive('df-c3b0359a-f528-42a4-9a9d-84c5324600a5')\"\n",
              "            title=\"Convert this dataframe to an interactive table.\"\n",
              "            style=\"display:none;\">\n",
              "\n",
              "  <svg xmlns=\"http://www.w3.org/2000/svg\" height=\"24px\" viewBox=\"0 -960 960 960\">\n",
              "    <path d=\"M120-120v-720h720v720H120Zm60-500h600v-160H180v160Zm220 220h160v-160H400v160Zm0 220h160v-160H400v160ZM180-400h160v-160H180v160Zm440 0h160v-160H620v160ZM180-180h160v-160H180v160Zm440 0h160v-160H620v160Z\"/>\n",
              "  </svg>\n",
              "    </button>\n",
              "\n",
              "  <style>\n",
              "    .colab-df-container {\n",
              "      display:flex;\n",
              "      gap: 12px;\n",
              "    }\n",
              "\n",
              "    .colab-df-convert {\n",
              "      background-color: #E8F0FE;\n",
              "      border: none;\n",
              "      border-radius: 50%;\n",
              "      cursor: pointer;\n",
              "      display: none;\n",
              "      fill: #1967D2;\n",
              "      height: 32px;\n",
              "      padding: 0 0 0 0;\n",
              "      width: 32px;\n",
              "    }\n",
              "\n",
              "    .colab-df-convert:hover {\n",
              "      background-color: #E2EBFA;\n",
              "      box-shadow: 0px 1px 2px rgba(60, 64, 67, 0.3), 0px 1px 3px 1px rgba(60, 64, 67, 0.15);\n",
              "      fill: #174EA6;\n",
              "    }\n",
              "\n",
              "    .colab-df-buttons div {\n",
              "      margin-bottom: 4px;\n",
              "    }\n",
              "\n",
              "    [theme=dark] .colab-df-convert {\n",
              "      background-color: #3B4455;\n",
              "      fill: #D2E3FC;\n",
              "    }\n",
              "\n",
              "    [theme=dark] .colab-df-convert:hover {\n",
              "      background-color: #434B5C;\n",
              "      box-shadow: 0px 1px 3px 1px rgba(0, 0, 0, 0.15);\n",
              "      filter: drop-shadow(0px 1px 2px rgba(0, 0, 0, 0.3));\n",
              "      fill: #FFFFFF;\n",
              "    }\n",
              "  </style>\n",
              "\n",
              "    <script>\n",
              "      const buttonEl =\n",
              "        document.querySelector('#df-c3b0359a-f528-42a4-9a9d-84c5324600a5 button.colab-df-convert');\n",
              "      buttonEl.style.display =\n",
              "        google.colab.kernel.accessAllowed ? 'block' : 'none';\n",
              "\n",
              "      async function convertToInteractive(key) {\n",
              "        const element = document.querySelector('#df-c3b0359a-f528-42a4-9a9d-84c5324600a5');\n",
              "        const dataTable =\n",
              "          await google.colab.kernel.invokeFunction('convertToInteractive',\n",
              "                                                    [key], {});\n",
              "        if (!dataTable) return;\n",
              "\n",
              "        const docLinkHtml = 'Like what you see? Visit the ' +\n",
              "          '<a target=\"_blank\" href=https://colab.research.google.com/notebooks/data_table.ipynb>data table notebook</a>'\n",
              "          + ' to learn more about interactive tables.';\n",
              "        element.innerHTML = '';\n",
              "        dataTable['output_type'] = 'display_data';\n",
              "        await google.colab.output.renderOutput(dataTable, element);\n",
              "        const docLink = document.createElement('div');\n",
              "        docLink.innerHTML = docLinkHtml;\n",
              "        element.appendChild(docLink);\n",
              "      }\n",
              "    </script>\n",
              "  </div>\n",
              "\n",
              "\n",
              "<div id=\"df-21a6eeaf-b53d-4baf-ad6c-ec02d0ee5822\">\n",
              "  <button class=\"colab-df-quickchart\" onclick=\"quickchart('df-21a6eeaf-b53d-4baf-ad6c-ec02d0ee5822')\"\n",
              "            title=\"Suggest charts\"\n",
              "            style=\"display:none;\">\n",
              "\n",
              "<svg xmlns=\"http://www.w3.org/2000/svg\" height=\"24px\"viewBox=\"0 0 24 24\"\n",
              "     width=\"24px\">\n",
              "    <g>\n",
              "        <path d=\"M19 3H5c-1.1 0-2 .9-2 2v14c0 1.1.9 2 2 2h14c1.1 0 2-.9 2-2V5c0-1.1-.9-2-2-2zM9 17H7v-7h2v7zm4 0h-2V7h2v10zm4 0h-2v-4h2v4z\"/>\n",
              "    </g>\n",
              "</svg>\n",
              "  </button>\n",
              "\n",
              "<style>\n",
              "  .colab-df-quickchart {\n",
              "      --bg-color: #E8F0FE;\n",
              "      --fill-color: #1967D2;\n",
              "      --hover-bg-color: #E2EBFA;\n",
              "      --hover-fill-color: #174EA6;\n",
              "      --disabled-fill-color: #AAA;\n",
              "      --disabled-bg-color: #DDD;\n",
              "  }\n",
              "\n",
              "  [theme=dark] .colab-df-quickchart {\n",
              "      --bg-color: #3B4455;\n",
              "      --fill-color: #D2E3FC;\n",
              "      --hover-bg-color: #434B5C;\n",
              "      --hover-fill-color: #FFFFFF;\n",
              "      --disabled-bg-color: #3B4455;\n",
              "      --disabled-fill-color: #666;\n",
              "  }\n",
              "\n",
              "  .colab-df-quickchart {\n",
              "    background-color: var(--bg-color);\n",
              "    border: none;\n",
              "    border-radius: 50%;\n",
              "    cursor: pointer;\n",
              "    display: none;\n",
              "    fill: var(--fill-color);\n",
              "    height: 32px;\n",
              "    padding: 0;\n",
              "    width: 32px;\n",
              "  }\n",
              "\n",
              "  .colab-df-quickchart:hover {\n",
              "    background-color: var(--hover-bg-color);\n",
              "    box-shadow: 0 1px 2px rgba(60, 64, 67, 0.3), 0 1px 3px 1px rgba(60, 64, 67, 0.15);\n",
              "    fill: var(--button-hover-fill-color);\n",
              "  }\n",
              "\n",
              "  .colab-df-quickchart-complete:disabled,\n",
              "  .colab-df-quickchart-complete:disabled:hover {\n",
              "    background-color: var(--disabled-bg-color);\n",
              "    fill: var(--disabled-fill-color);\n",
              "    box-shadow: none;\n",
              "  }\n",
              "\n",
              "  .colab-df-spinner {\n",
              "    border: 2px solid var(--fill-color);\n",
              "    border-color: transparent;\n",
              "    border-bottom-color: var(--fill-color);\n",
              "    animation:\n",
              "      spin 1s steps(1) infinite;\n",
              "  }\n",
              "\n",
              "  @keyframes spin {\n",
              "    0% {\n",
              "      border-color: transparent;\n",
              "      border-bottom-color: var(--fill-color);\n",
              "      border-left-color: var(--fill-color);\n",
              "    }\n",
              "    20% {\n",
              "      border-color: transparent;\n",
              "      border-left-color: var(--fill-color);\n",
              "      border-top-color: var(--fill-color);\n",
              "    }\n",
              "    30% {\n",
              "      border-color: transparent;\n",
              "      border-left-color: var(--fill-color);\n",
              "      border-top-color: var(--fill-color);\n",
              "      border-right-color: var(--fill-color);\n",
              "    }\n",
              "    40% {\n",
              "      border-color: transparent;\n",
              "      border-right-color: var(--fill-color);\n",
              "      border-top-color: var(--fill-color);\n",
              "    }\n",
              "    60% {\n",
              "      border-color: transparent;\n",
              "      border-right-color: var(--fill-color);\n",
              "    }\n",
              "    80% {\n",
              "      border-color: transparent;\n",
              "      border-right-color: var(--fill-color);\n",
              "      border-bottom-color: var(--fill-color);\n",
              "    }\n",
              "    90% {\n",
              "      border-color: transparent;\n",
              "      border-bottom-color: var(--fill-color);\n",
              "    }\n",
              "  }\n",
              "</style>\n",
              "\n",
              "  <script>\n",
              "    async function quickchart(key) {\n",
              "      const quickchartButtonEl =\n",
              "        document.querySelector('#' + key + ' button');\n",
              "      quickchartButtonEl.disabled = true;  // To prevent multiple clicks.\n",
              "      quickchartButtonEl.classList.add('colab-df-spinner');\n",
              "      try {\n",
              "        const charts = await google.colab.kernel.invokeFunction(\n",
              "            'suggestCharts', [key], {});\n",
              "      } catch (error) {\n",
              "        console.error('Error during call to suggestCharts:', error);\n",
              "      }\n",
              "      quickchartButtonEl.classList.remove('colab-df-spinner');\n",
              "      quickchartButtonEl.classList.add('colab-df-quickchart-complete');\n",
              "    }\n",
              "    (() => {\n",
              "      let quickchartButtonEl =\n",
              "        document.querySelector('#df-21a6eeaf-b53d-4baf-ad6c-ec02d0ee5822 button');\n",
              "      quickchartButtonEl.style.display =\n",
              "        google.colab.kernel.accessAllowed ? 'block' : 'none';\n",
              "    })();\n",
              "  </script>\n",
              "</div>\n",
              "\n",
              "  <div id=\"id_286b9efc-57e1-4965-91e3-b61956437223\">\n",
              "    <style>\n",
              "      .colab-df-generate {\n",
              "        background-color: #E8F0FE;\n",
              "        border: none;\n",
              "        border-radius: 50%;\n",
              "        cursor: pointer;\n",
              "        display: none;\n",
              "        fill: #1967D2;\n",
              "        height: 32px;\n",
              "        padding: 0 0 0 0;\n",
              "        width: 32px;\n",
              "      }\n",
              "\n",
              "      .colab-df-generate:hover {\n",
              "        background-color: #E2EBFA;\n",
              "        box-shadow: 0px 1px 2px rgba(60, 64, 67, 0.3), 0px 1px 3px 1px rgba(60, 64, 67, 0.15);\n",
              "        fill: #174EA6;\n",
              "      }\n",
              "\n",
              "      [theme=dark] .colab-df-generate {\n",
              "        background-color: #3B4455;\n",
              "        fill: #D2E3FC;\n",
              "      }\n",
              "\n",
              "      [theme=dark] .colab-df-generate:hover {\n",
              "        background-color: #434B5C;\n",
              "        box-shadow: 0px 1px 3px 1px rgba(0, 0, 0, 0.15);\n",
              "        filter: drop-shadow(0px 1px 2px rgba(0, 0, 0, 0.3));\n",
              "        fill: #FFFFFF;\n",
              "      }\n",
              "    </style>\n",
              "    <button class=\"colab-df-generate\" onclick=\"generateWithVariable('datasets')\"\n",
              "            title=\"Generate code using this dataframe.\"\n",
              "            style=\"display:none;\">\n",
              "\n",
              "  <svg xmlns=\"http://www.w3.org/2000/svg\" height=\"24px\"viewBox=\"0 0 24 24\"\n",
              "       width=\"24px\">\n",
              "    <path d=\"M7,19H8.4L18.45,9,17,7.55,7,17.6ZM5,21V16.75L18.45,3.32a2,2,0,0,1,2.83,0l1.4,1.43a1.91,1.91,0,0,1,.58,1.4,1.91,1.91,0,0,1-.58,1.4L9.25,21ZM18.45,9,17,7.55Zm-12,3A5.31,5.31,0,0,0,4.9,8.1,5.31,5.31,0,0,0,1,6.5,5.31,5.31,0,0,0,4.9,4.9,5.31,5.31,0,0,0,6.5,1,5.31,5.31,0,0,0,8.1,4.9,5.31,5.31,0,0,0,12,6.5,5.46,5.46,0,0,0,6.5,12Z\"/>\n",
              "  </svg>\n",
              "    </button>\n",
              "    <script>\n",
              "      (() => {\n",
              "      const buttonEl =\n",
              "        document.querySelector('#id_286b9efc-57e1-4965-91e3-b61956437223 button.colab-df-generate');\n",
              "      buttonEl.style.display =\n",
              "        google.colab.kernel.accessAllowed ? 'block' : 'none';\n",
              "\n",
              "      buttonEl.onclick = () => {\n",
              "        google.colab.notebook.generateWithVariable('datasets');\n",
              "      }\n",
              "      })();\n",
              "    </script>\n",
              "  </div>\n",
              "\n",
              "    </div>\n",
              "  </div>\n"
            ],
            "application/vnd.google.colaboratory.intrinsic+json": {
              "type": "dataframe",
              "variable_name": "datasets",
              "summary": "{\n  \"name\": \"datasets\",\n  \"rows\": 561,\n  \"fields\": [\n    {\n      \"column\": \"NO\",\n      \"properties\": {\n        \"dtype\": \"number\",\n        \"std\": 162,\n        \"min\": 1,\n        \"max\": 562,\n        \"num_unique_values\": 561,\n        \"samples\": [\n          515,\n          344,\n          179\n        ],\n        \"semantic_type\": \"\",\n        \"description\": \"\"\n      }\n    },\n    {\n      \"column\": \"NAMA\",\n      \"properties\": {\n        \"dtype\": \"string\",\n        \"num_unique_values\": 561,\n        \"samples\": [\n          \"NAMA 514\",\n          \"NAMA 343\",\n          \"NAMA 178\"\n        ],\n        \"semantic_type\": \"\",\n        \"description\": \"\"\n      }\n    },\n    {\n      \"column\": \"USIA\",\n      \"properties\": {\n        \"dtype\": \"number\",\n        \"std\": 5.858764720764746,\n        \"min\": 13.0,\n        \"max\": 43.0,\n        \"num_unique_values\": 31,\n        \"samples\": [\n          17.0,\n          40.0,\n          41.0\n        ],\n        \"semantic_type\": \"\",\n        \"description\": \"\"\n      }\n    },\n    {\n      \"column\": \"PARITAS\",\n      \"properties\": {\n        \"dtype\": \"number\",\n        \"std\": 1,\n        \"min\": 0,\n        \"max\": 6,\n        \"num_unique_values\": 7,\n        \"samples\": [\n          3,\n          2,\n          5\n        ],\n        \"semantic_type\": \"\",\n        \"description\": \"\"\n      }\n    },\n    {\n      \"column\": \"JARAK KELAHIRAN\",\n      \"properties\": {\n        \"dtype\": \"number\",\n        \"std\": 0,\n        \"min\": 0,\n        \"max\": 2,\n        \"num_unique_values\": 3,\n        \"samples\": [\n          0,\n          2,\n          1\n        ],\n        \"semantic_type\": \"\",\n        \"description\": \"\"\n      }\n    },\n    {\n      \"column\": \"PE/Non PE\",\n      \"properties\": {\n        \"dtype\": \"number\",\n        \"std\": 0,\n        \"min\": 0,\n        \"max\": 1,\n        \"num_unique_values\": 2,\n        \"samples\": [\n          1,\n          0\n        ],\n        \"semantic_type\": \"\",\n        \"description\": \"\"\n      }\n    },\n    {\n      \"column\": \"RIW HIPERTENSI_Tidak\",\n      \"properties\": {\n        \"dtype\": \"number\",\n        \"std\": 0.29274827642295725,\n        \"min\": 0.0,\n        \"max\": 1.0,\n        \"num_unique_values\": 2,\n        \"samples\": [\n          0.0,\n          1.0\n        ],\n        \"semantic_type\": \"\",\n        \"description\": \"\"\n      }\n    },\n    {\n      \"column\": \"RIW HIPERTENSI_Ya\",\n      \"properties\": {\n        \"dtype\": \"number\",\n        \"std\": 0.29274827642295725,\n        \"min\": 0.0,\n        \"max\": 1.0,\n        \"num_unique_values\": 2,\n        \"samples\": [\n          1.0,\n          0.0\n        ],\n        \"semantic_type\": \"\",\n        \"description\": \"\"\n      }\n    },\n    {\n      \"column\": \"RIW PE_Ada\",\n      \"properties\": {\n        \"dtype\": \"number\",\n        \"std\": 0.24207584144742267,\n        \"min\": 0.0,\n        \"max\": 1.0,\n        \"num_unique_values\": 2,\n        \"samples\": [\n          1.0,\n          0.0\n        ],\n        \"semantic_type\": \"\",\n        \"description\": \"\"\n      }\n    },\n    {\n      \"column\": \"RIW PE_Tidak\",\n      \"properties\": {\n        \"dtype\": \"number\",\n        \"std\": 0.24207584144742267,\n        \"min\": 0.0,\n        \"max\": 1.0,\n        \"num_unique_values\": 2,\n        \"samples\": [\n          0.0,\n          1.0\n        ],\n        \"semantic_type\": \"\",\n        \"description\": \"\"\n      }\n    },\n    {\n      \"column\": \"OBESITAS_Tidak\",\n      \"properties\": {\n        \"dtype\": \"number\",\n        \"std\": 0.09406909239017772,\n        \"min\": 0.0,\n        \"max\": 1.0,\n        \"num_unique_values\": 2,\n        \"samples\": [\n          0.0,\n          1.0\n        ],\n        \"semantic_type\": \"\",\n        \"description\": \"\"\n      }\n    },\n    {\n      \"column\": \"OBESITAS_Ya\",\n      \"properties\": {\n        \"dtype\": \"number\",\n        \"std\": 0.09406909239017772,\n        \"min\": 0.0,\n        \"max\": 1.0,\n        \"num_unique_values\": 2,\n        \"samples\": [\n          1.0,\n          0.0\n        ],\n        \"semantic_type\": \"\",\n        \"description\": \"\"\n      }\n    },\n    {\n      \"column\": \"RIW DM_Tidak\",\n      \"properties\": {\n        \"dtype\": \"number\",\n        \"std\": 0.09406909239017772,\n        \"min\": 0.0,\n        \"max\": 1.0,\n        \"num_unique_values\": 2,\n        \"samples\": [\n          1.0,\n          0.0\n        ],\n        \"semantic_type\": \"\",\n        \"description\": \"\"\n      }\n    },\n    {\n      \"column\": \"RIW DM_Ya\",\n      \"properties\": {\n        \"dtype\": \"number\",\n        \"std\": 0.09406909239017772,\n        \"min\": 0.0,\n        \"max\": 1.0,\n        \"num_unique_values\": 2,\n        \"samples\": [\n          0.0,\n          1.0\n        ],\n        \"semantic_type\": \"\",\n        \"description\": \"\"\n      }\n    },\n    {\n      \"column\": \"RIW HIPERTENSI/PE DALAM KELUARGA_Ada\",\n      \"properties\": {\n        \"dtype\": \"number\",\n        \"std\": 0.13877212645640513,\n        \"min\": 0.0,\n        \"max\": 1.0,\n        \"num_unique_values\": 2,\n        \"samples\": [\n          1.0,\n          0.0\n        ],\n        \"semantic_type\": \"\",\n        \"description\": \"\"\n      }\n    },\n    {\n      \"column\": \"RIW HIPERTENSI/PE DALAM KELUARGA_Tidak\",\n      \"properties\": {\n        \"dtype\": \"number\",\n        \"std\": 0.13877212645640513,\n        \"min\": 0.0,\n        \"max\": 1.0,\n        \"num_unique_values\": 2,\n        \"samples\": [\n          0.0,\n          1.0\n        ],\n        \"semantic_type\": \"\",\n        \"description\": \"\"\n      }\n    },\n    {\n      \"column\": \"SOSEK RENDAH_<UMR\",\n      \"properties\": {\n        \"dtype\": \"number\",\n        \"std\": 0.08421358370336092,\n        \"min\": 0.0,\n        \"max\": 1.0,\n        \"num_unique_values\": 2,\n        \"samples\": [\n          1.0,\n          0.0\n        ],\n        \"semantic_type\": \"\",\n        \"description\": \"\"\n      }\n    },\n    {\n      \"column\": \"SOSEK RENDAH_>UMR\",\n      \"properties\": {\n        \"dtype\": \"number\",\n        \"std\": 0.0842135837033609,\n        \"min\": 0.0,\n        \"max\": 1.0,\n        \"num_unique_values\": 2,\n        \"samples\": [\n          0.0,\n          1.0\n        ],\n        \"semantic_type\": \"\",\n        \"description\": \"\"\n      }\n    }\n  ]\n}"
            }
          },
          "metadata": {},
          "execution_count": 40
        }
      ],
      "source": [
        "datasets"
      ]
    },
    {
      "cell_type": "code",
      "execution_count": null,
      "id": "a30c1129-297e-4896-b2fe-b36adc0f41f5",
      "metadata": {
        "id": "a30c1129-297e-4896-b2fe-b36adc0f41f5"
      },
      "outputs": [],
      "source": [
        "datasets.to_csv('datasets-jadi.csv', index=False)"
      ]
    },
    {
      "cell_type": "code",
      "source": [
        "import pandas as pd\n",
        "import seaborn as sns\n",
        "import matplotlib.pyplot as plt\n",
        "\n",
        "# Load the preprocessed dataset\n",
        "datasets = pd.read_csv('datasets-jadi.csv')\n",
        "\n",
        "# Select only numeric columns for correlation analysis\n",
        "numeric_datasets = datasets.select_dtypes(include=['number'])\n",
        "\n",
        "# Calculate the correlation matrix\n",
        "correlation_matrix = numeric_datasets.corr()\n",
        "\n",
        "# Create a heatmap of the correlation matrix\n",
        "plt.figure(figsize=(12, 10))  # Adjust figure size as needed\n",
        "sns.heatmap(correlation_matrix, annot=True, cmap='coolwarm', fmt=\".2f\")\n",
        "plt.title('Correlation Matrix of Features')\n",
        "plt.show()"
      ],
      "metadata": {
        "colab": {
          "base_uri": "https://localhost:8080/",
          "height": 663
        },
        "id": "bNyxig9HgqfU",
        "outputId": "578d7b0e-a1a9-4219-a39e-fcf83ace9a28"
      },
      "id": "bNyxig9HgqfU",
      "execution_count": null,
      "outputs": [
        {
          "output_type": "display_data",
          "data": {
            "text/plain": [
              "<Figure size 1200x1000 with 2 Axes>"
            ],
            "image/png": "[encoded data removed]"
          },
          "metadata": {}
        }
      ]
    },
    {
      "cell_type": "code",
      "source": [
        "from sklearn.model_selection import train_test_split\n",
        "\n",
        "# Assuming 'datasets' is your DataFrame and 'PE/Non PE' is your target variable\n",
        "X = datasets.drop('PE/Non PE', axis=1)\n",
        "y = datasets['PE/Non PE']\n",
        "\n",
        "# Split the data into training and testing sets\n",
        "X_train, X_test, y_train, y_test = train_test_split(X, y, test_size=0.2, random_state=42) # test_size=0.2 means 20% for testing\n",
        "\n",
        "# Print the shapes of the resulting sets to verify the split\n",
        "print(\"X_train shape:\", X_train.shape)\n",
        "print(\"X_test shape:\", X_test.shape)\n",
        "print(\"y_train shape:\", y_train.shape)\n",
        "print(\"y_test shape:\", y_test.shape)"
      ],
      "metadata": {
        "colab": {
          "base_uri": "https://localhost:8080/"
        },
        "id": "jARb953Y0SYl",
        "outputId": "ba67e329-19da-47d8-e000-802f225467d3"
      },
      "id": "jARb953Y0SYl",
      "execution_count": 71,
      "outputs": [
        {
          "output_type": "stream",
          "name": "stdout",
          "text": [
            "X_train shape: (448, 17)\n",
            "X_test shape: (113, 17)\n",
            "y_train shape: (448,)\n",
            "y_test shape: (113,)\n"
          ]
        }
      ]
    },
    {
      "cell_type": "code",
      "source": [
        "from sklearn.preprocessing import StandardScaler\n",
        "\n",
        "# Feature scaling using StandardScaler\n",
        "sc = StandardScaler()\n",
        "\n",
        "# Select only numeric features for scaling\n",
        "numeric_features = X_train.select_dtypes(include=['number']).columns # Select numeric columns\n",
        "X_train_numeric = X_train[numeric_features] # Create a dataframe with only numeric features\n",
        "X_test_numeric = X_test[numeric_features] # Create a dataframe with only numeric features\n",
        "\n",
        "# Fit and transform the scaler on numeric features only\n",
        "X_train_scaled = sc.fit_transform(X_train_numeric)\n",
        "X_test_scaled = sc.transform(X_test_numeric)\n",
        "\n",
        "# Update the original DataFrames with scaled numeric features\n",
        "X_train[numeric_features] = X_train_scaled\n",
        "X_test[numeric_features] = X_test_scaled"
      ],
      "metadata": {
        "id": "yeSWQYxx02bV"
      },
      "id": "yeSWQYxx02bV",
      "execution_count": 72,
      "outputs": []
    },
    {
      "cell_type": "code",
      "source": [
        "from sklearn.tree import DecisionTreeClassifier\n",
        "from sklearn.metrics import confusion_matrix, accuracy_score\n",
        "\n",
        "# Initialize the Decision Tree Classifier\n",
        "classifier = DecisionTreeClassifier(criterion='entropy', random_state=0)\n",
        "\n",
        "# Train the classifier\n",
        "classifier.fit(X_train, y_train)\n",
        "\n",
        "# Make predictions on the test set\n",
        "y_pred = classifier.predict(X_test)\n",
        "\n",
        "# Evaluate the model\n",
        "cm = confusion_matrix(y_test, y_pred)\n",
        "print(\"Confusion Matrix:\\n\", cm)\n",
        "\n",
        "accuracy = accuracy_score(y_test, y_pred)\n",
        "print(\"Accuracy:\", accuracy)"
      ],
      "metadata": {
        "colab": {
          "base_uri": "https://localhost:8080/"
        },
        "id": "6WHhbq_0F6MT",
        "outputId": "00f0e710-8b32-4443-bd1a-82afde27fc28"
      },
      "id": "6WHhbq_0F6MT",
      "execution_count": 70,
      "outputs": [
        {
          "output_type": "stream",
          "name": "stdout",
          "text": [
            "Confusion Matrix:\n",
            " [[97  5]\n",
            " [ 5  6]]\n",
            "Accuracy: 0.911504424778761\n"
          ]
        }
      ]
    },
    {
      "cell_type": "code",
      "source": [
        "from sklearn.model_selection import train_test_split\n",
        "from sklearn.preprocessing import StandardScaler\n",
        "from sklearn.tree import DecisionTreeClassifier\n",
        "from sklearn.metrics import confusion_matrix, accuracy_score, classification_report\n",
        "\n",
        "# Assuming 'datasets' is your DataFrame and 'PE/Non PE' is your target variable\n",
        "X = datasets.drop('PE/Non PE', axis=1)\n",
        "y = datasets['PE/Non PE']\n",
        "\n",
        "# Split the data into training and testing sets\n",
        "X_train, X_test, y_train, y_test = train_test_split(X, y, test_size=0.2, random_state=42) # test_size=0.2 means 20% for testing\n",
        "\n",
        "# Print the shapes of the resulting sets to verify the split\n",
        "print(\"X_train shape:\", X_train.shape)\n",
        "print(\"X_test shape:\", X_test.shape)\n",
        "print(\"y_train shape:\", y_train.shape)\n",
        "print(\"y_test shape:\", y_test.shape)\n",
        "\n",
        "# --- Changes start here ---\n",
        "# Create a list of numeric features\n",
        "numeric_features = X_train.select_dtypes(include=['number']).columns.tolist()\n",
        "\n",
        "# Select only numeric features for both training and testing sets\n",
        "X_train_numeric = X_train[numeric_features]\n",
        "X_test_numeric = X_test[numeric_features]\n",
        "\n",
        "# Feature scaling using StandardScaler\n",
        "sc = StandardScaler()\n",
        "X_train_scaled = sc.fit_transform(X_train_numeric)\n",
        "X_test_scaled = sc.transform(X_test_numeric)\n",
        "\n",
        "# Convert the scaled arrays back to DataFrames with original column names\n",
        "X_train_scaled = pd.DataFrame(X_train_scaled, columns=numeric_features, index=X_train_numeric.index)\n",
        "X_test_scaled = pd.DataFrame(X_test_scaled, columns=numeric_features, index=X_test_numeric.index)\n",
        "\n",
        "# Update the original DataFrames with scaled numeric features\n",
        "X_train = X_train_scaled\n",
        "X_test = X_test_scaled\n",
        "\n",
        "\n",
        "# Initialize the Decision Tree Classifier\n",
        "classifier = DecisionTreeClassifier(criterion='entropy', random_state=0)\n",
        "\n",
        "# Train the classifier\n",
        "classifier.fit(X_train, y_train)\n",
        "\n",
        "# Make predictions on the test set\n",
        "y_pred = classifier.predict(X_test)\n",
        "\n",
        "# Evaluate the model\n",
        "cm = confusion_matrix(y_test, y_pred)\n",
        "print(\"Confusion Matrix:\\n\", cm)\n",
        "\n",
        "accuracy = accuracy_score(y_test, y_pred)\n",
        "print(\"Accuracy:\", accuracy)\n",
        "\n",
        "#Calculate other metrics\n",
        "print(classification_report(y_test, y_pred))"
      ],
      "metadata": {
        "colab": {
          "base_uri": "https://localhost:8080/"
        },
        "id": "f_tqV24cGXBR",
        "outputId": "c533bafc-4425-4a63-b725-e58f3966c9fc"
      },
      "id": "f_tqV24cGXBR",
      "execution_count": 77,
      "outputs": [
        {
          "output_type": "stream",
          "name": "stdout",
          "text": [
            "X_train shape: (448, 17)\n",
            "X_test shape: (113, 17)\n",
            "y_train shape: (448,)\n",
            "y_test shape: (113,)\n",
            "Confusion Matrix:\n",
            " [[97  5]\n",
            " [ 5  6]]\n",
            "Accuracy: 0.911504424778761\n",
            "              precision    recall  f1-score   support\n",
            "\n",
            "           0       0.95      0.95      0.95       102\n",
            "           1       0.55      0.55      0.55        11\n",
            "\n",
            "    accuracy                           0.91       113\n",
            "   macro avg       0.75      0.75      0.75       113\n",
            "weighted avg       0.91      0.91      0.91       113\n",
            "\n"
          ]
        }
      ]
    },
    {
      "cell_type": "markdown",
      "source": [],
      "metadata": {
        "id": "CLbjzo9MGW38"
      },
      "id": "CLbjzo9MGW38"
    }
  ],
  "metadata": {
    "kernelspec": {
      "display_name": "Python 3 (ipykernel)",
      "language": "python",
      "name": "python3"
    },
    "language_info": {
      "codemirror_mode": {
        "name": "ipython",
        "version": 3
      },
      "file_extension": ".py",
      "mimetype": "text/x-python",
      "name": "python",
      "nbconvert_exporter": "python",
      "pygments_lexer": "ipython3",
      "version": "3.11.9"
    },
    "colab": {
      "provenance": [],
      "include_colab_link": true
    }
  },
  "nbformat": 4,
  "nbformat_minor": 5
}